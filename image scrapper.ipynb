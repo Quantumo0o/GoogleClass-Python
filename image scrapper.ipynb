{
 "cells": [
  {
   "cell_type": "code",
   "execution_count": 75,
   "id": "a845608a-ba39-450a-8d72-7873c62d327a",
   "metadata": {},
   "outputs": [],
   "source": [
    "import requests\n",
    "from bs4 import BeautifulSoup\n",
    "from urllib.request import urlopen\n",
    "import logging\n",
    "import os"
   ]
  },
  {
   "cell_type": "code",
   "execution_count": 76,
   "id": "c4d8d9bc-2fd6-42d9-9c85-ae4f4f932080",
   "metadata": {},
   "outputs": [],
   "source": [
    "# create a folder for the downloaded images\n",
    "save_dir=\"images/\"\n",
    "if not os.path.exists(save_dir):\n",
    "    os.makedirs(save_dir)"
   ]
  },
  {
   "cell_type": "code",
   "execution_count": 77,
   "id": "a62856e3-31f9-45d0-8487-2ad775789fb2",
   "metadata": {},
   "outputs": [],
   "source": [
    "query = 'puppies'\n",
    "\n",
    "# make a search query to Google Images\n",
    "url = f'https://www.google.com/search?q={query}&source=lnms&tbm=isch'\n",
    "headers = {'User-Agent': 'Mozilla/5.0'}\n",
    "response = requests.get(url, headers=headers)"
   ]
  },
  {
   "cell_type": "code",
   "execution_count": 78,
   "id": "0a439439-2e19-4d9a-9573-3b3e28f5ef5d",
   "metadata": {},
   "outputs": [
    {
     "data": {
      "text/plain": [
       "<Response [200]>"
      ]
     },
     "execution_count": 78,
     "metadata": {},
     "output_type": "execute_result"
    }
   ],
   "source": [
    "response"
   ]
  },
  {
   "cell_type": "code",
   "execution_count": 79,
   "id": "85363a80-fe02-4adc-9cb5-4d28b0a0df55",
   "metadata": {},
   "outputs": [],
   "source": [
    "soup=BeautifulSoup(response.content,\"html.parser\")"
   ]
  },
  {
   "cell_type": "code",
   "execution_count": 80,
   "id": "fee8ae36-5d77-4b4a-aedd-491b1d8472b7",
   "metadata": {},
   "outputs": [],
   "source": [
    "img_tags=soup.find_all(\"img\")"
   ]
  },
  {
   "cell_type": "code",
   "execution_count": 81,
   "id": "4e4701bb-64f3-4e06-83d9-c5172128422e",
   "metadata": {},
   "outputs": [],
   "source": [
    "del img_tags[0]"
   ]
  },
  {
   "cell_type": "code",
   "execution_count": 82,
   "id": "37396703-b32f-4110-b137-28b2c465ae5e",
   "metadata": {},
   "outputs": [
    {
     "data": {
      "text/plain": [
       "20"
      ]
     },
     "execution_count": 82,
     "metadata": {},
     "output_type": "execute_result"
    }
   ],
   "source": [
    "len(img_tags)"
   ]
  },
  {
   "cell_type": "code",
   "execution_count": 83,
   "id": "d1f60794-f9bb-49bc-8aaa-8c941bf001df",
   "metadata": {},
   "outputs": [],
   "source": [
    "mongo=[]\n",
    "for i in img_tags:\n",
    "    img_url=i['src']\n",
    "    image_data=requests.get(img_url).content\n",
    "    mydict={\"index\": img_url,\"image\":image_data}\n",
    "    mongo.append(mydict)\n",
    "    with open(os.path.join(save_dir,f\"{query}_{img_tags.index(i)}.jpg\"), \"wb\") as f:\n",
    "        f.write(image_data)"
   ]
  },
  {
   "cell_type": "code",
   "execution_count": null,
   "id": "7d892d98-dd7f-416e-b4e0-091e8a2520cb",
   "metadata": {},
   "outputs": [],
   "source": []
  }
 ],
 "metadata": {
  "kernelspec": {
   "display_name": "Python 3 (ipykernel)",
   "language": "python",
   "name": "python3"
  },
  "language_info": {
   "codemirror_mode": {
    "name": "ipython",
    "version": 3
   },
   "file_extension": ".py",
   "mimetype": "text/x-python",
   "name": "python",
   "nbconvert_exporter": "python",
   "pygments_lexer": "ipython3",
   "version": "3.10.8"
  }
 },
 "nbformat": 4,
 "nbformat_minor": 5
}
