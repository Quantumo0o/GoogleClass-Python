{
 "cells": [
  {
   "cell_type": "markdown",
   "id": "0b457ad2-4aac-4e9f-b41c-eaec54169242",
   "metadata": {},
   "source": [
    "#### Q1. What is a database? Differentiate between SQL and NoSQL databases.\n",
    "##### Ans.\n",
    "A database is a collection of data that is organized and stored in a structured way so that it can be easily accessed, managed, and updated.\n",
    "\n",
    "SQL (Structured Query Language) databases are relational databases that store data in tables with pre-defined schemas. They use SQL to manipulate and retrieve data, and are known for their consistency and reliability.\n",
    "\n",
    "NoSQL (Not only SQL) databases are non-relational databases that store data in various formats, such as key-value, document-based, graph-based, or column-family. They are highly scalable and flexible, and are well-suited for handling large volumes of unstructured data. They do not rely on pre-defined schemas, allowing for greater flexibility and easier scaling."
   ]
  },
  {
   "cell_type": "markdown",
   "id": "62b1dbcb-37b0-4cd6-bc03-2caaced51dec",
   "metadata": {},
   "source": [
    "#### Q2. What is DDL? Explain why CREATE, DROP, ALTER, and TRUNCATE are used with an example.\n",
    "##### Ans.\n",
    "DDL (Data Definition Language) is a subset of SQL that is used to define the structure of a database, including creating, modifying, and deleting database objects such as tables, indexes, and constraints.\n",
    "\n",
    "Here are some examples of how the DDL commands CREATE, DROP, ALTER, and TRUNCATE are used:\n",
    "\n",
    "1. CREATE: This command is used to create a new database object, such as a table, view, or index. For example, to create a new table called customers with columns for id, name, and email, you would use the following SQL statement:"
   ]
  },
  {
   "cell_type": "code",
   "execution_count": null,
   "id": "f4500288-dff5-4bf8-8eb9-c87d193969a4",
   "metadata": {},
   "outputs": [],
   "source": [
    "CREATE TABLE customers (\n",
    "  id INT PRIMARY KEY,\n",
    "  name VARCHAR(255),\n",
    "  email VARCHAR(255)\n",
    ");"
   ]
  },
  {
   "cell_type": "markdown",
   "id": "85544503-a7f4-458b-9920-f8063424fec7",
   "metadata": {},
   "source": [
    "2. DROP: This command is used to delete an existing database object. For example, to delete the customers table, you would use the following SQL statement:"
   ]
  },
  {
   "cell_type": "code",
   "execution_count": null,
   "id": "7e68d692-20fb-426f-bb24-62e21cd8d552",
   "metadata": {},
   "outputs": [],
   "source": [
    "DROP TABLE customers;"
   ]
  },
  {
   "cell_type": "markdown",
   "id": "5c7ee3e4-e8f6-47b0-ba48-128f3454baf1",
   "metadata": {},
   "source": [
    "3. ALTER: This command is used to modify the structure of an existing database object, such as adding or removing columns from a table. For example, to add a new column called phone to the customers table, you would use the following SQL statement:"
   ]
  },
  {
   "cell_type": "code",
   "execution_count": null,
   "id": "07286f80-3d8e-47dd-a1c0-8130688f4ba7",
   "metadata": {},
   "outputs": [],
   "source": [
    "ALTER TABLE customers ADD COLUMN phone VARCHAR(255);"
   ]
  },
  {
   "cell_type": "markdown",
   "id": "303810b5-542e-4204-a191-308a4edd7828",
   "metadata": {},
   "source": [
    "4. TRUNCATE: This command is used to remove all data from an existing table, but keep the table structure intact. For example, to remove all data from the customers table, you would use the following SQL statement:"
   ]
  },
  {
   "cell_type": "code",
   "execution_count": null,
   "id": "ec6f0a90-daa2-4c17-8c37-669366fe7166",
   "metadata": {},
   "outputs": [],
   "source": [
    "TRUNCATE TABLE customers;"
   ]
  },
  {
   "cell_type": "markdown",
   "id": "aa2fc465-6e95-442a-bb34-685acca5e20b",
   "metadata": {},
   "source": [
    "#### Q3. What is DML? Explain INSERT, UPDATE, and DELETE with an example.\n",
    "##### Ans.\n",
    "DML (Data Manipulation Language) is a subset of SQL that is used to manipulate data within a database. The three most common DML commands are INSERT, UPDATE, and DELETE.\n",
    "\n",
    "Here are some examples of how these DML commands are used:\n",
    "\n",
    "1. INSERT: This command is used to insert new data into a table. For example, to insert a new record into the customers table with a name of \"John\", an age of 30, and an email of \"john@example.com\", you would use the following SQL statement:"
   ]
  },
  {
   "cell_type": "code",
   "execution_count": null,
   "id": "ed407075-61ca-4000-9343-132a5832aeb8",
   "metadata": {},
   "outputs": [],
   "source": [
    "INSERT INTO customers (name, age, email)\n",
    "VALUES ('John', 30, 'john@example.com');"
   ]
  },
  {
   "cell_type": "markdown",
   "id": "4fd0f824-2170-465a-bd9e-4486551ea64e",
   "metadata": {},
   "source": [
    "2. UPDATE: This command is used to update existing data in a table. For example, to update the email of the record with an id of 1 to \"newemail@example.com\", you would use the following SQL statement:"
   ]
  },
  {
   "cell_type": "code",
   "execution_count": null,
   "id": "df4e0475-faa9-4a60-84c2-7655d3b0975a",
   "metadata": {},
   "outputs": [],
   "source": [
    "UPDATE customers\n",
    "SET email = 'newemail@example.com'\n",
    "WHERE id = 1;"
   ]
  },
  {
   "cell_type": "markdown",
   "id": "d27b61de-f0b1-4289-a1ff-c3ecd7da3f88",
   "metadata": {},
   "source": [
    "3. DELETE: This command is used to delete data from a table. For example, to delete the record with an id of 1 from the customers table, you would use the following SQL statement:"
   ]
  },
  {
   "cell_type": "code",
   "execution_count": null,
   "id": "6fb45e46-3c3c-4d57-9e1c-ae5cbc8fbd48",
   "metadata": {},
   "outputs": [],
   "source": [
    "DELETE FROM customers\n",
    "WHERE id = 1;"
   ]
  },
  {
   "cell_type": "markdown",
   "id": "e8313d7b-d2b1-4354-90e4-51589c81ab08",
   "metadata": {},
   "source": [
    "These DML commands are essential for manipulating data within a database. They allow you to insert, update, and delete data, helping you to manage and maintain your data effectively."
   ]
  },
  {
   "cell_type": "markdown",
   "id": "3d1eb9a8-e98a-45f6-8ad0-c639944ce0d5",
   "metadata": {},
   "source": [
    "#### Q4. What is DQL? Explain SELECT with an example."
   ]
  },
  {
   "cell_type": "markdown",
   "id": "dd3f973d-7c00-4fba-8d81-7299e4d88449",
   "metadata": {},
   "source": [
    "##### Ans.\n",
    "DQL (Data Query Language) is a subset of SQL that is used to retrieve data from a database. The most common DQL command is SELECT.\n",
    "\n",
    "Here's an example of how the SELECT command is used:\n",
    "\n",
    "Suppose you have a table called employees that contains the following columns: id, name, age, salary, and department.\n",
    "\n",
    "To retrieve all columns from the employees table, you would use the following SQL statement:"
   ]
  },
  {
   "cell_type": "code",
   "execution_count": null,
   "id": "9826a1eb-5cd1-4d4f-a2c9-9b81935cd721",
   "metadata": {},
   "outputs": [],
   "source": [
    "SELECT name, salary FROM employees;"
   ]
  },
  {
   "cell_type": "markdown",
   "id": "4ff99421-59b1-43be-b385-57c2e567a79b",
   "metadata": {},
   "source": [
    "You can also use conditions in the SELECT statement to filter the results. For example, to retrieve only the records where the age column is greater than 30, you would use the following SQL statement:"
   ]
  },
  {
   "cell_type": "code",
   "execution_count": null,
   "id": "4784258c-0b7f-4f54-a825-1e55c601f619",
   "metadata": {},
   "outputs": [],
   "source": [
    "SELECT * FROM employees\n",
    "WHERE age > 30;"
   ]
  },
  {
   "cell_type": "markdown",
   "id": "256461c4-5eb2-42c5-85f3-cb87f52200a0",
   "metadata": {},
   "source": [
    "The SELECT command is essential for retrieving data from a database. It allows you to retrieve specific columns, apply conditions to filter results, and join multiple tables to create more complex queries."
   ]
  },
  {
   "cell_type": "markdown",
   "id": "e1c8d786-94f4-4d48-8f95-8afa4b4750bf",
   "metadata": {},
   "source": [
    "#### Q5. Explain Primary Key and Foreign Key.\n",
    "##### Ans.\n",
    "A **primary key** is a column or combination of columns in a table that uniquely identifies each row in the table. The primary key constraint ensures that the values in the primary key column(s) are unique and not null. This makes it easier to locate and modify specific rows in the table. For example, in a table of customers, the primary key could be the customer_id column, which would ensure that each customer has a unique identifier.\n",
    "\n",
    "A **foreign key** is a column or combination of columns in one table that refers to the primary key column(s) in another table. This establishes a relationship between the two tables and allows data to be linked together across tables. For example, in a table of orders, the customer_id column could be a foreign key that refers to the customer_id column in the customers table, linking each order to a specific customer. This ensures referential integrity between the tables, meaning that data in one table is always consistent with data in another table."
   ]
  },
  {
   "cell_type": "markdown",
   "id": "f088a89a-7f3d-4f86-bc99-acd42325cd31",
   "metadata": {},
   "source": [
    "#### Q6. Write a python code to connect MySQL to python. Explain the cursor() and execute() method."
   ]
  },
  {
   "cell_type": "code",
   "execution_count": null,
   "id": "b22f7583-0549-410a-b236-106d7eb7f768",
   "metadata": {},
   "outputs": [],
   "source": [
    "import mysql.connector\n",
    "\n",
    "# Connect to the database\n",
    "mydb = mysql.connector.connect(\n",
    "  host=\"localhost\",\n",
    "  user=\"yourusername\",\n",
    "  password=\"yourpassword\",\n",
    "  database=\"yourdatabase\"\n",
    ")\n",
    "\n",
    "# Create a cursor object\n",
    "mycursor = mydb.cursor()\n",
    "\n",
    "# Execute a SQL query\n",
    "mycursor.execute(\"SELECT * FROM customers\")\n",
    "\n",
    "# Fetch the result set\n",
    "result = mycursor.fetchall()\n",
    "\n",
    "# Print the result set\n",
    "for row in result:\n",
    "  print(row)"
   ]
  },
  {
   "cell_type": "markdown",
   "id": "3fbe9c66-45ad-4ac6-a696-3bdb15433c41",
   "metadata": {},
   "source": [
    "we first import the mysql.connector module and use it to connect to the database. We then create a cursor object using the **cursor()** method of the database connection. The cursor object is used to execute SQL queries and fetch results from the database.\n",
    "\n",
    "The **execute()** method of the cursor object is used to execute SQL queries. It takes an SQL query as its argument and executes it on the database. In the example code above, we execute a SELECT query to retrieve all records from the customers table."
   ]
  },
  {
   "cell_type": "markdown",
   "id": "c96a89d7-78f3-49cf-bbdb-ca557cd16f3f",
   "metadata": {},
   "source": [
    "#### Q7. Give the order of execution of SQL clauses in an SQL query.\n",
    "##### Ans.\n",
    "The order of execution of SQL clauses in an SQL query is as follows:\n",
    "\n",
    "1. FROM: The FROM clause specifies the tables from which data is to be retrieved.\n",
    "\n",
    "2. JOIN: The JOIN clause is used to combine data from two or more tables based on a related column between them.\n",
    "\n",
    "3. WHERE: The WHERE clause is used to filter rows based on a specific condition.\n",
    "\n",
    "4. GROUP BY: The GROUP BY clause is used to group rows that have the same values in a specified column.\n",
    "\n",
    "5. HAVING: The HAVING clause is used to filter groups based on a specific condition.\n",
    "\n",
    "6. SELECT: The SELECT clause specifies the columns that are to be retrieved from the table(s).\n",
    "\n",
    "7. DISTINCT: The DISTINCT clause is used to retrieve only unique values of a column.\n",
    "\n",
    "8. ORDER BY: The ORDER BY clause is used to sort the result set by one or more columns.\n",
    "\n",
    "9. LIMIT: The LIMIT clause is used to limit the number of rows returned by the query."
   ]
  },
  {
   "cell_type": "code",
   "execution_count": null,
   "id": "efe5508f-2c1d-48c3-a994-668b712484d9",
   "metadata": {},
   "outputs": [],
   "source": []
  }
 ],
 "metadata": {
  "kernelspec": {
   "display_name": "Python 3 (ipykernel)",
   "language": "python",
   "name": "python3"
  },
  "language_info": {
   "codemirror_mode": {
    "name": "ipython",
    "version": 3
   },
   "file_extension": ".py",
   "mimetype": "text/x-python",
   "name": "python",
   "nbconvert_exporter": "python",
   "pygments_lexer": "ipython3",
   "version": "3.10.8"
  }
 },
 "nbformat": 4,
 "nbformat_minor": 5
}
