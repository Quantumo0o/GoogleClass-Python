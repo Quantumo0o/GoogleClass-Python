{
 "cells": [
  {
   "cell_type": "markdown",
   "id": "2f30cb0b-5b25-4d0b-b4e4-9dde0ea6d358",
   "metadata": {},
   "source": [
    "#### Q1. Create a function which will take a list as an argument and return the product of all the numbers after creating a flat list.\n",
    "#### Use the below-given list as an argument for your function.\n",
    "#### list1 = [1,2,3,4, [44,55,66, True], False, (34,56,78,89,34), {1,2,3,3,2,1}, {1:34, \"key2\": [55, 67, 78, 89], 4: (45,22, 61, 34)}, [56, 'data science'],'Machine Learning']\n",
    "*Note: you must extract numeric keys and values of the dictionary also.*"
   ]
  },
  {
   "cell_type": "code",
   "execution_count": 119,
   "id": "915c5485-e04e-4de9-bea9-5d9806beb5b1",
   "metadata": {},
   "outputs": [
    {
     "name": "stdout",
     "output_type": "stream",
     "text": [
      "numbers in list1 is : [1, 2, 3, 4, 44, 55, 66, 34, 56, 78, 89, 34, 1, 2, 3, 1, 34, 55, 67, 78, 89, 4, 45, 22, 61, 34, 56]\n",
      "4134711838987085478833841242112000\n",
      "4134711838987085478833841242112000\n"
     ]
    }
   ],
   "source": [
    "from functools import reduce\n",
    "list1 = [1,2,3,4, [44,55,66, True], False, (34,56,78,89,34), {1,2,3,3,2,1}, {1:34, \"key2\": [55, 67, 78, 89], 4: (45,22, 61, 34)}, [56, 'data science'], 'Machine Learning']\n",
    "a=str(list1)\n",
    "d=1\n",
    "b=\"\"\n",
    "c=[]\n",
    "for i in a:\n",
    "    if i.isalnum():\n",
    "        b=(b+i)\n",
    "        b.replace(\" \",\"\")\n",
    "    elif i==\",\" or \":\":\n",
    "        if b.isdecimal():\n",
    "            c.append(int(b))\n",
    "            d=d*int(b)\n",
    "        b=\"\"      \n",
    "    else:\n",
    "        continue\n",
    "        \n",
    "print(\"numbers in list1 is :\",c)\n",
    "print(d)\n",
    "#we can also use reduce function \n",
    "print(reduce(lambda x,y : x*y,c))\n",
    "\n"
   ]
  },
  {
   "cell_type": "raw",
   "id": "79b2ea10-db65-492e-ba69-5a88f1b025c3",
   "metadata": {},
   "source": [
    "#### Q2. Write a python program for encrypting a message sent to you by your friend. The logic of encryption should be such that, for a the output should be z. For b, the output should be y. For c, the output should\n",
    "be x respectively. Also, the whitespace should be replaced with a dollar sign. Keep the punctuation marks unchanged.\n",
    "#### Input Sentence: I want to become a Data Scientist.\n",
    "#### Encrypt the above input sentence using the program you just created.\n",
    "*Note: Convert the given input sentence into lowercase before encrypting. The final output should be lowercase.*"
   ]
  },
  {
   "cell_type": "code",
   "execution_count": 116,
   "id": "2865674a-5876-40cc-804b-fcfaee0db890",
   "metadata": {},
   "outputs": [
    {
     "name": "stdout",
     "output_type": "stream",
     "text": [
      "i want to become a data scientist.\n",
      "r$dzmg$gl$yvxlnv$z$wzgz$hxrvmgrhg.\n"
     ]
    }
   ],
   "source": [
    "#create dictionary where key : value is a:z , b,y respectively\n",
    "dic={chr(i+97):chr(122-i) for i in range(26)}\n",
    "# add key & value \" \":$ in dictionary\n",
    "dic[\" \"]=\"$\"\n",
    "Sentence=\"I want to become a Data Scientist.\"\n",
    "print(Sentence.lower())\n",
    "b=\"\"\n",
    "for i in Sentence.lower():\n",
    "    if i.isalnum() or i.isspace():\n",
    "        b=b+str(dic.get(i))\n",
    "    else:\n",
    "        b=b+i\n",
    "print(b)"
   ]
  }
 ],
 "metadata": {
  "kernelspec": {
   "display_name": "Python 3 (ipykernel)",
   "language": "python",
   "name": "python3"
  },
  "language_info": {
   "codemirror_mode": {
    "name": "ipython",
    "version": 3
   },
   "file_extension": ".py",
   "mimetype": "text/x-python",
   "name": "python",
   "nbconvert_exporter": "python",
   "pygments_lexer": "ipython3",
   "version": "3.10.8"
  }
 },
 "nbformat": 4,
 "nbformat_minor": 5
}
