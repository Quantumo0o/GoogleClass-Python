{
 "cells": [
  {
   "cell_type": "markdown",
   "id": "ac8a8908-8640-44a6-8295-66ff61785351",
   "metadata": {},
   "source": [
    "**Q1.** List any five functions of the pandas library with execution.   "
   ]
  },
  {
   "cell_type": "markdown",
   "id": "2b252548-f799-43fd-9e0d-ecf4fc91deb7",
   "metadata": {},
   "source": [
    "**Ans :** List of five function of the pandas is following :-\n",
    "- **read_csv:** This function is used to read data from a CSV file and create a DataFrame.   \n",
    "- **head:** This function is used to display the first n rows of a DataFrame. By default, it shows the first 5 rows.   \n",
    "- **describe:** This function generates descriptive statistics of a DataFrame, including count, mean, standard deviation, minimum, and maximum values.   \n",
    "- **groupby:** This function is used for grouping data based on one or more columns and performing operations on them.   \n",
    "- **plot:** This function is used to create various types of plots, such as line plots, bar plots, scatter plots, etc."
   ]
  },
  {
   "cell_type": "markdown",
   "id": "80418c2b-fbad-4803-ac2c-f302a19a0f57",
   "metadata": {},
   "source": [
    "  "
   ]
  },
  {
   "cell_type": "markdown",
   "id": "1160ab47-b1f1-47ea-b580-10576a7dbe76",
   "metadata": {},
   "source": [
    "---\n",
    "**Q2.** Given a Pandas DataFrame df with columns 'A', 'B', and 'C', write a Python function to re-index the\n",
    "DataFrame with a new index that starts from 1 and increments by 2 for each row.   "
   ]
  },
  {
   "cell_type": "markdown",
   "id": "f331fd61-7ef3-4264-b523-e239ac6f0c88",
   "metadata": {},
   "source": [
    "**Ans:** "
   ]
  },
  {
   "cell_type": "code",
   "execution_count": 1,
   "id": "f5cbefd9-a8f3-4ac7-8f5d-b6424bddf87e",
   "metadata": {},
   "outputs": [
    {
     "name": "stdout",
     "output_type": "stream",
     "text": [
      "   A  B  C\n",
      "0  A  A  A\n",
      "1  B  B  B\n",
      "2  C  C  C\n"
     ]
    }
   ],
   "source": [
    "import pandas as pd\n",
    "\n",
    "df = pd.DataFrame({'A':['A','B','C'],\n",
    "                  'B':['A','B','C'],\n",
    "                  'C':['A','B','C']})\n",
    "print(df)\n"
   ]
  },
  {
   "cell_type": "code",
   "execution_count": 2,
   "id": "463cc2b8-39fa-4c62-a2eb-f258370b8fd3",
   "metadata": {},
   "outputs": [
    {
     "name": "stdout",
     "output_type": "stream",
     "text": [
      "       A  B  C\n",
      "index         \n",
      "1      A  A  A\n",
      "3      B  B  B\n",
      "5      C  C  C\n"
     ]
    }
   ],
   "source": [
    "df['index']=[x for x in range(1,len(df)*2,2)]\n",
    "df.set_index('index',inplace=True)\n",
    "print(df)"
   ]
  },
  {
   "cell_type": "markdown",
   "id": "4dcb44a7-7b25-4964-8d82-d098e195fb74",
   "metadata": {},
   "source": [
    " "
   ]
  },
  {
   "cell_type": "markdown",
   "id": "8a6728c8-1391-4a9d-b56b-80187e7635b3",
   "metadata": {},
   "source": [
    "---\n",
    "**Q3.** You have a Pandas DataFrame df with a column named 'Values'. Write a Python function that\n",
    "iterates over the DataFrame and calculates the sum of the first three values in the 'Values' column. The\n",
    "function should print the sum to the console.   \n"
   ]
  },
  {
   "cell_type": "markdown",
   "id": "e6b8e10c-5a7d-40b2-a393-758e39ac4566",
   "metadata": {},
   "source": [
    "**Ans.**"
   ]
  },
  {
   "cell_type": "code",
   "execution_count": 3,
   "id": "d873e8df-ec4e-4086-8d7b-35b832ee5c6f",
   "metadata": {},
   "outputs": [
    {
     "name": "stdout",
     "output_type": "stream",
     "text": [
      "Sum of the first three values: 60\n"
     ]
    }
   ],
   "source": [
    "import pandas as pd\n",
    "\n",
    "# Create a DataFrame\n",
    "data = {'Values': [10, 20, 30, 40, 50]}\n",
    "df = pd.DataFrame(data)\n",
    "\n",
    "# Define the function\n",
    "def calculate_sum_of_first_three(df):\n",
    "    if len(df) < 3:\n",
    "        print(\"DataFrame doesn't have enough rows.\")\n",
    "        return\n",
    "    sum_first_three = df['Values'].iloc[:3].sum()\n",
    "    print(\"Sum of the first three values:\", sum_first_three)\n",
    "\n",
    "# Call the function\n",
    "calculate_sum_of_first_three(df)\n"
   ]
  },
  {
   "cell_type": "markdown",
   "id": "6fc9a048-0f74-4590-8c54-3aea9e942a5d",
   "metadata": {},
   "source": [
    "---\n",
    "**Q4.** Given a Pandas DataFrame df with a column 'Text', write a Python function to create a new column\n",
    "'Word_Count' that contains the number of words in each row of the 'Text' column.   "
   ]
  },
  {
   "cell_type": "markdown",
   "id": "d1c00571-8aeb-4a87-9b0a-a0211885116d",
   "metadata": {},
   "source": [
    "**Ans.**   "
   ]
  },
  {
   "cell_type": "code",
   "execution_count": 4,
   "id": "9112a1f8-4b33-470c-948d-0f160592b84e",
   "metadata": {},
   "outputs": [
    {
     "name": "stdout",
     "output_type": "stream",
     "text": [
      "                Text  Word_Count\n",
      "0       apple is red           3\n",
      "1  banana is not red           4\n",
      "2  papaya may be red           4\n",
      "3   mango may be red           4\n",
      "4    grapes is black           3\n"
     ]
    }
   ],
   "source": [
    "import pandas as pd\n",
    "def myfun(df):\n",
    "    df['Word_Count']=[len(df['Text'][x].split()) for x in range(len(df))]\n",
    "    return df\n",
    "\n",
    "df =pd.DataFrame({'Text':['apple is red','banana is not red','papaya may be red','mango may be red','grapes is black']})\n",
    "\n",
    "df = myfun(df)\n",
    "print(df)"
   ]
  },
  {
   "cell_type": "markdown",
   "id": "6a23b0ff-10b7-4362-8f60-7515d25b8260",
   "metadata": {},
   "source": [
    "   "
   ]
  },
  {
   "cell_type": "markdown",
   "id": "18bc4452-6293-438b-9da0-5e23d2e51753",
   "metadata": {},
   "source": [
    "---\n",
    "**Q5.** How are DataFrame.size() and DataFrame.shape() different?   "
   ]
  },
  {
   "cell_type": "markdown",
   "id": "10aeb248-e470-410d-bbb4-90dac1cd5690",
   "metadata": {},
   "source": [
    "**Ans.** DataFrame.size() shows number of elements and DataFrame.shape() shows number of Row and Colunm"
   ]
  },
  {
   "cell_type": "code",
   "execution_count": 5,
   "id": "da90a841-9fb6-4045-b2c1-365748dbb132",
   "metadata": {},
   "outputs": [
    {
     "name": "stdout",
     "output_type": "stream",
     "text": [
      "DataFrame size: 6\n",
      "DataFrame shape: (3, 2)\n"
     ]
    }
   ],
   "source": [
    "import pandas as pd\n",
    "\n",
    "data = {'A': [1, 2, 3], 'B': [4, 5, 6]}\n",
    "df = pd.DataFrame(data)\n",
    "\n",
    "print(\"DataFrame size:\", df.size)     # Shows number of elements\n",
    "print(\"DataFrame shape:\", df.shape)   # Shows number of Row and Colunm \n"
   ]
  },
  {
   "cell_type": "markdown",
   "id": "6e9e3a77-3268-461c-96eb-010c758e00da",
   "metadata": {},
   "source": [
    "   "
   ]
  },
  {
   "cell_type": "markdown",
   "id": "98c5d031-7028-4b70-9b3d-602d7701ee0b",
   "metadata": {},
   "source": [
    "---\n",
    "**Q6.** Which function of pandas do we use to read an excel file?   "
   ]
  },
  {
   "cell_type": "markdown",
   "id": "a8b8bb60-5cb4-4fb2-9849-f58ddb19a39b",
   "metadata": {},
   "source": [
    "**Ans.** In pandas, the function used to read an Excel file is ***pd.read_excel('file.xlsx', sheet_name='Sheet1')***"
   ]
  },
  {
   "cell_type": "markdown",
   "id": "e89c7dac-98e5-4f1a-8172-02a5410ec68e",
   "metadata": {},
   "source": [
    "```python\n",
    "import pandas as pd\n",
    "\n",
    "# Read an Excel file and create a DataFrame\n",
    "data = pd.read_excel('file.xlsx')\n",
    "\n",
    "# You can also specify a specific sheet within the Excel file\n",
    "# data = pd.read_excel('file.xlsx', sheet_name='Sheet1')\n",
    "\n",
    "# Now you can work with the 'data' DataFrame\n",
    "print(data)\n",
    "```"
   ]
  },
  {
   "cell_type": "markdown",
   "id": "4473dd7a-38f3-4cd4-b001-cb0783fe5e06",
   "metadata": {},
   "source": [
    "   "
   ]
  },
  {
   "cell_type": "markdown",
   "id": "283d3e0d-4099-415c-93a0-ee56733a5f12",
   "metadata": {},
   "source": [
    "---\n",
    "**Q7.** You have a Pandas DataFrame df that contains a column named 'Email' that contains email addresses in the format 'username@domain.com'. Write a Python function that creates a new column 'Username' in df that contains only the username part of each email address.   "
   ]
  },
  {
   "cell_type": "markdown",
   "id": "cfbd580c-63e3-4279-aee8-e953164c6cb3",
   "metadata": {},
   "source": [
    "   "
   ]
  },
  {
   "cell_type": "code",
   "execution_count": 6,
   "id": "bfd18be1-fdd0-493c-a296-39b2c35cef92",
   "metadata": {},
   "outputs": [
    {
     "name": "stdout",
     "output_type": "stream",
     "text": [
      "               Email Username\n",
      "0  user1@example.com    user1\n",
      "1  user2@example.com    user2\n",
      "2  user3@example.com    user3\n"
     ]
    }
   ],
   "source": [
    "def split_user(email):\n",
    "    return email.split('@')[0]\n",
    "    \n",
    "\n",
    "data = {'Email': ['user1@example.com', 'user2@example.com', 'user3@example.com']}\n",
    "df = pd.DataFrame(data)\n",
    "\n",
    "df['Username']=df['Email'].apply(split_user)\n",
    "\n",
    "print(df)"
   ]
  },
  {
   "cell_type": "markdown",
   "id": "fba4a1d9-0796-42bc-a60d-7b0ecf56db2c",
   "metadata": {},
   "source": [
    "   "
   ]
  },
  {
   "cell_type": "markdown",
   "id": "1340739e-7a99-4f27-b48c-102969fd9dff",
   "metadata": {},
   "source": [
    "---\n",
    "**Q8.** You have a Pandas DataFrame df with columns 'A', 'B', and 'C'. Write a Python function that selects\n",
    "all rows where the value in column 'A' is greater than 5 and the value in column 'B' is less than 10. The\n",
    "function should return a new DataFrame that contains only the selected rows.\n",
    "For example, if df contains the following values:   \n",
    "A B C   \n",
    "0 3 5 1   \n",
    "1 8 2 7   \n",
    "2 6 9 4   \n",
    "3 2 3 5   \n",
    "4 9 1 2   "
   ]
  },
  {
   "cell_type": "markdown",
   "id": "51ff5458-e7f8-49e9-8d74-e00030e92bd6",
   "metadata": {},
   "source": [
    "**Ans**"
   ]
  },
  {
   "cell_type": "code",
   "execution_count": 7,
   "id": "82b22438-ef64-4cc1-bd17-9e4a6ced85cf",
   "metadata": {},
   "outputs": [
    {
     "name": "stdout",
     "output_type": "stream",
     "text": [
      "   A  B  C\n",
      "1  8  2  7\n",
      "4  9  1  2\n"
     ]
    }
   ],
   "source": [
    "df=pd.DataFrame({'A':[3,8,6,2,9],\n",
    "    'B':[5,2,9,3,1],\n",
    "    'C':[1,7,4,5,2]})\n",
    "\n",
    "p=df[(df['A'] > 5) & (df['B'] < 9)]\n",
    "print(p)\n"
   ]
  },
  {
   "cell_type": "markdown",
   "id": "fe1e0e2a-8035-44bf-94ee-d424666dc72c",
   "metadata": {},
   "source": [
    "   "
   ]
  },
  {
   "cell_type": "markdown",
   "id": "414fe3a6-4341-4b13-80d9-b95640a5c3de",
   "metadata": {},
   "source": [
    "---\n",
    "**Q9.** Given a Pandas DataFrame df with a column 'Values', write a Python function to calculate the mean,\n",
    "median, and standard deviation of the values in the 'Values' column.   "
   ]
  },
  {
   "cell_type": "markdown",
   "id": "613907ca-b3dd-4e29-8d2e-bd545a08e0fb",
   "metadata": {},
   "source": [
    "**Ans.**"
   ]
  },
  {
   "cell_type": "code",
   "execution_count": 8,
   "id": "9666c07b-a711-4578-8006-5105aa4d7272",
   "metadata": {},
   "outputs": [
    {
     "name": "stdout",
     "output_type": "stream",
     "text": [
      "mean is  55.0\n",
      "median is  55.0\n",
      "Standerd Deviation is  30.276503540974915\n"
     ]
    }
   ],
   "source": [
    "def values(df):\n",
    "    mean=df['Values'].mean()\n",
    "    median=df['Values'].median()\n",
    "    std=df['Values'].std()\n",
    "    return mean, median, std\n",
    "\n",
    "    \n",
    "df = pd.DataFrame({'Values':[10,20,30,40,50,60,70,80,90,100]})\n",
    "mean, median, std = values(df)\n",
    "\n",
    "print('mean is ',mean)\n",
    "print('median is ',median)\n",
    "print('Standerd Deviation is ',std)"
   ]
  },
  {
   "cell_type": "markdown",
   "id": "16890a99-4958-4c69-b157-6712e895f9a5",
   "metadata": {},
   "source": [
    "---\n",
    "**Q10.** Given a Pandas DataFrame df with a column 'Sales' and a column 'Date', write a Python function to\n",
    "create a new column 'MovingAverage' that contains the moving average of the sales for the past 7 days\n",
    "for each row in the DataFrame. The moving average should be calculated using a window of size 7 and\n",
    "should include the current day."
   ]
  },
  {
   "cell_type": "code",
   "execution_count": 175,
   "id": "381a1ab0-deda-44f2-ac37-271e1a4725ec",
   "metadata": {},
   "outputs": [
    {
     "name": "stdout",
     "output_type": "stream",
     "text": [
      "        Date  Sales  MovingAverage\n",
      "0 2023-08-01     10           10.0\n",
      "1 2023-08-02     15           12.5\n",
      "2 2023-08-03     20           15.0\n",
      "3 2023-08-04     25           17.5\n",
      "4 2023-08-05     30           20.0\n",
      "5 2023-08-06     35           22.5\n",
      "6 2023-08-07     40           25.0\n",
      "7 2023-08-08     45           30.0\n",
      "8 2023-08-09     50           35.0\n",
      "9 2023-08-10     55           40.0\n"
     ]
    }
   ],
   "source": [
    "import pandas as pd\n",
    "\n",
    "def myfun(df, window_size=7):\n",
    "    df['MovingAverage'] = df['Sales'].rolling(window=window_size, min_periods=1).mean()\n",
    "    return df\n",
    "\n",
    "data = {'Date': pd.date_range('2023-08-01', periods=10, freq='D'),\n",
    "        'Sales': [10, 15, 20, 25, 30, 35, 40, 45, 50, 55]}\n",
    "df = pd.DataFrame(data)\n",
    "\n",
    "df = myfun(df)\n",
    "\n",
    "print(df)"
   ]
  },
  {
   "cell_type": "code",
   "execution_count": 176,
   "id": "f5fc2e43-9a52-4cec-8d32-af7986a01bcc",
   "metadata": {},
   "outputs": [
    {
     "data": {
      "text/plain": [
       "0    10.0\n",
       "1    12.5\n",
       "2    15.0\n",
       "3    17.5\n",
       "4    20.0\n",
       "5    22.5\n",
       "6    25.0\n",
       "7    30.0\n",
       "8    35.0\n",
       "9    40.0\n",
       "Name: Sales, dtype: float64"
      ]
     },
     "execution_count": 176,
     "metadata": {},
     "output_type": "execute_result"
    }
   ],
   "source": [
    "df['Sales'].rolling(window=7, min_periods=1).mean()"
   ]
  },
  {
   "cell_type": "markdown",
   "id": "685a8d61-6845-43d0-8a1a-40d871da6e04",
   "metadata": {},
   "source": [
    "---\n",
    "**Q11.** You have a Pandas DataFrame df with a column 'Date'. Write a Python function that creates a new\n",
    "column 'Weekday' in the DataFrame. The 'Weekday' column should contain the weekday name (e.g.\n",
    "Monday, Tuesday) corresponding to each date in the 'Date' column."
   ]
  },
  {
   "cell_type": "code",
   "execution_count": 185,
   "id": "61e24332-2bf3-450f-a5a5-57ffb9a5e86f",
   "metadata": {},
   "outputs": [
    {
     "name": "stdout",
     "output_type": "stream",
     "text": [
      "        Date    Weekday\n",
      "0 2023-01-01     Sunday\n",
      "1 2023-01-02     Monday\n",
      "2 2023-01-03    Tuesday\n",
      "3 2023-01-04  Wednesday\n",
      "4 2023-01-05   Thursday\n"
     ]
    }
   ],
   "source": [
    "import pandas as pd\n",
    "\n",
    "def myfun(df):\n",
    "    df['Weekday'] = df['Date'].dt.day_name()\n",
    "    return df\n",
    "\n",
    "# Example DataFrame\n",
    "data = {'Date': ['2023-01-01', '2023-01-02', '2023-01-03', '2023-01-04', '2023-01-05']}\n",
    "df = pd.DataFrame(data)\n",
    "df['Date'] = pd.to_datetime(df['Date'])  \n",
    "# Add weekday column\n",
    "df = myfun(df)\n",
    "\n",
    "print(df)"
   ]
  },
  {
   "cell_type": "markdown",
   "id": "2b894fd9-6a35-4fbc-a67f-0b6b0bbf0f07",
   "metadata": {},
   "source": [
    "   "
   ]
  },
  {
   "cell_type": "markdown",
   "id": "79e50b8d-1694-43ac-b94b-b059349188c6",
   "metadata": {},
   "source": [
    "---\n",
    "**Q12.** Given a Pandas DataFrame df with a column 'Date' that contains timestamps, write a Python\n",
    "function to select all rows where the date is between '2023-01-01' and '2023-01-31'.   "
   ]
  },
  {
   "cell_type": "markdown",
   "id": "4f523bfa-97c2-4e7f-b4d3-f13ef5d933b5",
   "metadata": {},
   "source": [
    "**Ans.**"
   ]
  },
  {
   "cell_type": "code",
   "execution_count": 196,
   "id": "585f8711-e6a9-44f8-a57f-65ea739fe0c4",
   "metadata": {},
   "outputs": [
    {
     "name": "stdout",
     "output_type": "stream",
     "text": [
      "        Date\n",
      "0 2023-01-01\n",
      "1 2023-01-15\n",
      "2 2023-01-20\n"
     ]
    }
   ],
   "source": [
    "def myfun(df):\n",
    "    start_date='2023-01-01'\n",
    "    end_date ='2023-01-31'\n",
    "    selected = df[(df['Date']>=start_date) & (df['Date']<=end_date)]\n",
    "    return selected\n",
    "\n",
    "data = {'Date': ['2023-01-01', '2023-01-15', '2023-01-20', '2023-02-01']}\n",
    "df = pd.DataFrame(data)\n",
    "df['Date']=pd.to_datetime(df['Date'])\n",
    "\n",
    "df = myfun(df)\n",
    "print(df)"
   ]
  },
  {
   "cell_type": "markdown",
   "id": "74a6b043-6a6e-4015-b2df-7086972af998",
   "metadata": {},
   "source": [
    "   "
   ]
  },
  {
   "cell_type": "markdown",
   "id": "a7adf7d2-bb9f-4c36-b811-99aaec828786",
   "metadata": {},
   "source": [
    "---\n",
    "**Q13.** To use the basic functions of pandas, what is the first and foremost necessary library that needs to\n",
    "be imported?"
   ]
  },
  {
   "cell_type": "markdown",
   "id": "afbda5c6-aabc-4b7f-9ca6-0c0a79640a13",
   "metadata": {},
   "source": [
    "**Ans.** To use the basic functions of pandas, the first and foremost library that needs to be imported is, pandas library itself, using the following import statement:   \n",
    "\n",
    "\n",
    "```python\n",
    "import pandas as pd\n",
    "```"
   ]
  },
  {
   "cell_type": "code",
   "execution_count": null,
   "id": "47bafb5c-4114-4094-a606-a4f24a28681c",
   "metadata": {},
   "outputs": [],
   "source": []
  }
 ],
 "metadata": {
  "kernelspec": {
   "display_name": "Python 3 (ipykernel)",
   "language": "python",
   "name": "python3"
  },
  "language_info": {
   "codemirror_mode": {
    "name": "ipython",
    "version": 3
   },
   "file_extension": ".py",
   "mimetype": "text/x-python",
   "name": "python",
   "nbconvert_exporter": "python",
   "pygments_lexer": "ipython3",
   "version": "3.10.8"
  }
 },
 "nbformat": 4,
 "nbformat_minor": 5
}
