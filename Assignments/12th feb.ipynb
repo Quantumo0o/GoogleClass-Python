{
 "cells": [
  {
   "cell_type": "markdown",
   "id": "53e83f54-e813-4411-8c46-536f24033f83",
   "metadata": {},
   "source": [
    "#### Q1. What is an Exception in python? Write the difference between Exceptions and Syntax errors.  \n",
    "Ans. An Exception in Python is an error that occurs during program execution, causing the program to halt and potentially display an error message.  \n",
    "Syntax errors occur when there is an issue with the program's syntax, while exceptions occur during program execution when an unexpected situation arises.\n"
   ]
  },
  {
   "cell_type": "markdown",
   "id": "469cd59e-e280-4d43-b7f2-7217ae6e392d",
   "metadata": {},
   "source": [
    "#### Q2. What happens when an exception is not handled? Explain with an example. \n",
    "Ans. When an exception is not handled, it leads to program termination and displays an error message to the user."
   ]
  },
  {
   "cell_type": "code",
   "execution_count": 2,
   "id": "135581e1-b61e-4a1e-bfbc-dff820016dd1",
   "metadata": {},
   "outputs": [
    {
     "ename": "ZeroDivisionError",
     "evalue": "division by zero",
     "output_type": "error",
     "traceback": [
      "\u001b[0;31m---------------------------------------------------------------------------\u001b[0m",
      "\u001b[0;31mZeroDivisionError\u001b[0m                         Traceback (most recent call last)",
      "Cell \u001b[0;32mIn[2], line 3\u001b[0m\n\u001b[1;32m      1\u001b[0m \u001b[38;5;66;03m# Python code with an unhandled exception\u001b[39;00m\n\u001b[1;32m      2\u001b[0m x \u001b[38;5;241m=\u001b[39m \u001b[38;5;241m0\u001b[39m\n\u001b[0;32m----> 3\u001b[0m y \u001b[38;5;241m=\u001b[39m \u001b[38;5;241;43m10\u001b[39;49m\u001b[43m \u001b[49m\u001b[38;5;241;43m/\u001b[39;49m\u001b[43m \u001b[49m\u001b[43mx\u001b[49m\n\u001b[1;32m      4\u001b[0m \u001b[38;5;28mprint\u001b[39m(\u001b[38;5;124m\"\u001b[39m\u001b[38;5;124mthis will not print because of error\u001b[39m\u001b[38;5;124m\"\u001b[39m)\n",
      "\u001b[0;31mZeroDivisionError\u001b[0m: division by zero"
     ]
    }
   ],
   "source": [
    "# Python code with an unhandled exception\n",
    "x = 0\n",
    "y = 10 / x\n",
    "print(\"this will not print because of ZeroDivisionError\")"
   ]
  },
  {
   "cell_type": "markdown",
   "id": "93dffceb-4d0f-4837-a273-c700acb4cf62",
   "metadata": {},
   "source": [
    "#### Q3. Which Python statements are used to catch and handle exceptions? Explain with an example."
   ]
  },
  {
   "cell_type": "markdown",
   "id": "4bf23ffb-84c7-42a6-b891-93a46c4c84f1",
   "metadata": {},
   "source": [
    "Ans. Python provides two statements to catch and handle exceptions: try and except.\n",
    "\n",
    "The **try** statement is used to enclose a block of code that might raise an exception. If an exception is raised, the code execution is stopped and the control is transferred to the except statement. The **except** statement defines a block of code that handles the exception."
   ]
  },
  {
   "cell_type": "code",
   "execution_count": 1,
   "id": "cbea68b9-a8ff-49d3-a35e-41aec9c8f8d5",
   "metadata": {},
   "outputs": [
    {
     "name": "stdout",
     "output_type": "stream",
     "text": [
      "there is some issue with my code [Errno 2] No such file or directory: 'Error.txt'\n"
     ]
    }
   ],
   "source": [
    "try:\n",
    "    f=open(\"Error.txt\",\"r\")\n",
    "except Exception as e :\n",
    "    print(\"there is some issue with my code\",e)"
   ]
  },
  {
   "cell_type": "markdown",
   "id": "6b19ad29-c812-49de-bd96-abe9f3e00044",
   "metadata": {},
   "source": [
    "#### Q4. Explain with an example: \n",
    "    a.|try and else \n",
    "    b.|finally \n",
    "    c.|raise"
   ]
  },
  {
   "cell_type": "markdown",
   "id": "231f510b-7ed7-4ca5-ae42-ede97b0eba18",
   "metadata": {},
   "source": [
    "Ans. **a. try and else:**<br>\n",
    "The **else** block in a **try** and **except** statement is executed when no exception is raised. <br>\n",
    "\n",
    "**b. finally:**<br>\n",
    "The **finally** block in a try and except statement is always executed, regardless of whether an exception is raised or not. \n",
    "\n",
    "**c. raise:**<br>\n",
    "The **raise** statement in Python is used to raise an exception manually. <br>\n",
    "Here's an example of how to use these:\n"
   ]
  },
  {
   "cell_type": "code",
   "execution_count": 24,
   "id": "43a03ff1-fd41-4fec-9eaf-066f136e0385",
   "metadata": {},
   "outputs": [
    {
     "name": "stdin",
     "output_type": "stream",
     "text": [
      "Please enter a number:  2\n"
     ]
    },
    {
     "name": "stdout",
     "output_type": "stream",
     "text": [
      "The result is: 5.0\n",
      "End of program!\n"
     ]
    }
   ],
   "source": [
    "# Python code example for try and else and finally block\n",
    "try:\n",
    "    x = int(input(\"Please enter a number: \"))\n",
    "    y = 10 / x\n",
    "    \n",
    "except Exception as e:\n",
    "    print(e)\n",
    "\n",
    "# else code block run if no exception     \n",
    "else:\n",
    "    print(\"The result is:\", y)\n",
    "    \n",
    "# final code block always run    \n",
    "finally:\n",
    "    print(\"End of program!\")\n",
    "\n"
   ]
  },
  {
   "cell_type": "code",
   "execution_count": 26,
   "id": "d6c6875c-3ae3-40a6-8aaf-99906ca4a09b",
   "metadata": {},
   "outputs": [
    {
     "name": "stdout",
     "output_type": "stream",
     "text": [
      "Cannot divide by zero!\n"
     ]
    }
   ],
   "source": [
    "# Python code example for raise statement\n",
    "def divide(x, y):\n",
    "    if y == 0:\n",
    "        # Mannual exception define and exception catch using an except block and print the error message\n",
    "        raise Exception(\"Cannot divide by zero!\")\n",
    "    else:\n",
    "        return x / y\n",
    "\n",
    "try:\n",
    "    result = divide(10, 0)\n",
    "except Exception as e:\n",
    "    print(e)\n"
   ]
  },
  {
   "cell_type": "markdown",
   "id": "d9598178-7704-473f-81e0-c388950f055d",
   "metadata": {},
   "source": [
    "#### Q5. What are Custom Exceptions in python? Why do we need Custom Exceptions? Explain with an example. "
   ]
  },
  {
   "cell_type": "markdown",
   "id": "da8682a4-6ce4-4a3a-a497-7430e7d5e66f",
   "metadata": {},
   "source": [
    "Custom Exceptions in Python are user defined exceptions that can be created to handle specific error conditions manually in a program.<br>\n",
    "We need custom exceptions to provide a more specific and meaningful error message to the user and make our code more readable and maintainable.<br>\n",
    "<br>\n",
    "Example of how to create a custom exception in Python:\n"
   ]
  },
  {
   "cell_type": "code",
   "execution_count": 2,
   "id": "87132667-6390-4fd0-b805-67bd8ed01c28",
   "metadata": {},
   "outputs": [
    {
     "name": "stdout",
     "output_type": "stream",
     "text": [
      "Cannot divide by zero!\n"
     ]
    }
   ],
   "source": [
    "# Python code with raise statement\n",
    "def divide(x, y):\n",
    "    if y == 0:\n",
    "        raise Exception(\"Cannot divide by zero!\")\n",
    "    else:\n",
    "        return x / y\n",
    "\n",
    "try:\n",
    "    result = divide(10, 0)\n",
    "except Exception as e:\n",
    "    print(e)\n"
   ]
  },
  {
   "cell_type": "markdown",
   "id": "06d5cf4c-5d50-459f-aebb-a018ffa930e4",
   "metadata": {},
   "source": [
    "#### Q6. Create a custom exception class. Use this class to handle an exception. "
   ]
  },
  {
   "cell_type": "code",
   "execution_count": 35,
   "id": "be46e60e-5f32-404c-a2e8-0f9754704333",
   "metadata": {},
   "outputs": [
    {
     "name": "stdin",
     "output_type": "stream",
     "text": [
      "Please enter a number between 0 to 10:  -2\n"
     ]
    },
    {
     "name": "stdout",
     "output_type": "stream",
     "text": [
      "Number is lower than 0\n"
     ]
    }
   ],
   "source": [
    "# Python code with custom exception\n",
    "class NegativeNumberError(Exception):\n",
    "    def __init__(self, message):\n",
    "        self.message = message\n",
    "\n",
    "def process_number(number):\n",
    "    if number < 0:\n",
    "        raise NegativeNumberError(\"Number is lower than 0\")\n",
    "    elif number > 10:\n",
    "        raise NegativeNumberError(\"Number is lower than 10\")\n",
    "    else:\n",
    "        print(\"Number is valid.\")\n",
    "\n",
    "try:\n",
    "    number = int(input(\"Please enter a number between 0 to 10: \"))\n",
    "    process_number(number)\n",
    "except NegativeNumberError as e:\n",
    "    print(e.message)\n"
   ]
  },
  {
   "cell_type": "code",
   "execution_count": null,
   "id": "442950bc-b268-4748-aeff-fbcecacc8956",
   "metadata": {},
   "outputs": [],
   "source": []
  }
 ],
 "metadata": {
  "kernelspec": {
   "display_name": "Python 3 (ipykernel)",
   "language": "python",
   "name": "python3"
  },
  "language_info": {
   "codemirror_mode": {
    "name": "ipython",
    "version": 3
   },
   "file_extension": ".py",
   "mimetype": "text/x-python",
   "name": "python",
   "nbconvert_exporter": "python",
   "pygments_lexer": "ipython3",
   "version": "3.10.8"
  }
 },
 "nbformat": 4,
 "nbformat_minor": 5
}
