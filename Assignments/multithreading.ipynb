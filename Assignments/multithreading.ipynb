{
 "cells": [
  {
   "attachments": {},
   "cell_type": "markdown",
   "metadata": {},
   "source": [
    "#### Q1. what is multithreading in python? why is it used? Name the module used to handle threads in python\n",
    "Ans. Multithreading in Python is the ability of a program to create multiple threads of execution that can run concurrently, sharing the same resources.\n",
    "\n",
    "Multithreading is used in Python for a variety of purposes, including:\n",
    "-   Improving performance: By running multiple threads in parallel, you can take advantage of multi-core CPUs and improve the performance of CPU-bound tasks.\n",
    "\n",
    "-   Handling I/O: When your program needs to wait for I/O operations to complete, such as reading data from a file or waiting for a network response, multithreading can help you avoid blocking the main thread and keep your program responsive.\n",
    "\n",
    "-   Building responsive GUIs: Multithreading can be used to keep the GUI of your Python application responsive while performing long-running tasks in the background.\n",
    "\n",
    "The module used to handle threads in Python is called \"threading\". "
   ]
  },
  {
   "attachments": {},
   "cell_type": "markdown",
   "metadata": {},
   "source": [
    "#### Q2. why threading module used? rite the use of the following functions\n",
    "    1.   activeCount()\n",
    "    2.   currentThread()\n",
    "    3.   enumerate()\n",
    "Ans.The \"threading\" module in Python is used to create, manage and synchronize threads in a Python program. It provides a higher-level interface to working with threads compared to the lower-level \"thread\" module.\n",
    "Here are the uses of the following functions in the \"threading\" module:\n",
    "1.  activeCount(): This function returns the number of Thread objects that are currently active in the program. An active thread is a thread that has been started and has not yet finished or been terminated. This function can be useful for debugging and monitoring purposes to check how many threads are running at any given time.\n",
    "   \n",
    "2.  currentThread(): This function returns a reference to the Thread object representing the current thread of execution. The returned Thread object can be used to access information about the current thread, such as its name and thread ID. This function is useful when working with multiple threads to identify which thread is currently executing a particular piece of code.\n",
    "   \n",
    "3.  enumerate(): This function returns a list of all Thread objects that are currently active in the program. Each Thread object in the list represents a thread that has been started and has not yet finished or been terminated. This function is useful for debugging and monitoring purposes to get a list of all active threads in the program and their current state."
   ]
  },
  {
   "cell_type": "code",
   "execution_count": 1,
   "metadata": {},
   "outputs": [
    {
     "name": "stdout",
     "output_type": "stream",
     "text": [
      "Thread-4 (worker) starting\n",
      "Thread-5 (worker) starting\n",
      "Thread-6 (worker) starting\n",
      "Thread-7 (worker) starting\n",
      "Thread-8 (worker) starting\n",
      "Number of active threads: 12\n",
      "Current thread: MainThread\n",
      "Thread: MainThread\n",
      "Thread: IOPub\n",
      "Thread: Heartbeat\n",
      "Thread: Thread-2 (_watch_pipe_fd)\n",
      "Thread: Thread-3 (_watch_pipe_fd)\n",
      "Thread: Control\n",
      "Thread: IPythonHistorySavingThread\n",
      "Thread: Thread-4 (worker)\n",
      "Thread: Thread-5 (worker)\n",
      "Thread: Thread-6 (worker)\n",
      "Thread: Thread-7 (worker)\n",
      "Thread: Thread-8 (worker)\n"
     ]
    }
   ],
   "source": [
    "import threading\n",
    "import time\n",
    "\n",
    "def worker():\n",
    "    print(f\"{threading.current_thread().name} starting\")\n",
    "    time.sleep(1)\n",
    "    print(f\"{threading.current_thread().name} exiting\")\n",
    "\n",
    "def main():\n",
    "    threads = []\n",
    "    for i in range(5):\n",
    "        t = threading.Thread(target=worker)\n",
    "        threads.append(t)\n",
    "        t.start()\n",
    "\n",
    "    print(f\"Number of active threads: {threading.active_count()}\")\n",
    "    print(f\"Current thread: {threading.current_thread().name}\")\n",
    "\n",
    "    for thread in threading.enumerate():\n",
    "        # print the all Thread object name\n",
    "        print(f\"Thread: {thread.name}\")\n",
    "\n",
    "'''This code block is a common idiom used in Python to ensure that the code inside\n",
    "the if statement is only executed if the script is run as the main program, and not\n",
    " if it is imported as a module into another script.'''\n",
    "if __name__ == \"__main__\":\n",
    "    main()"
   ]
  },
  {
   "attachments": {},
   "cell_type": "markdown",
   "metadata": {},
   "source": [
    "#### Q3. Explain the following functions\n",
    "    1.  run()\n",
    "    2.  start()\n",
    "    3.  join()\n",
    "    4.  isAlive()\n",
    "\n",
    "Ans. The following are some of the commonly used functions in Python's threading module:\n",
    "1.  **run()**: This method is called by the start() method of a thread to run the thread's logic. You can override this method in your thread class to define the specific task that the thread should perform.\n",
    "\n",
    "2.  **start()**: This method starts the execution of the thread by calling the thread's run() method. Once this method is called, the thread will start running in the background.\n",
    "\n",
    "3.  **join()**: This method blocks the calling thread until the thread on which it is called completes its execution. This is useful when you want to wait for a thread to finish before continuing with the rest of the program.\n",
    "\n",
    "4.  **isAlive()**: This method returns a boolean value indicating whether the thread is still executing or has finished executing. It is commonly used to check whether a thread has completed its task before calling the join() method."
   ]
  },
  {
   "cell_type": "code",
   "execution_count": 2,
   "metadata": {},
   "outputs": [
    {
     "name": "stdout",
     "output_type": "stream",
     "text": [
      "thread no. 0 starting\n",
      "thread no. 1 starting\n",
      "thread no. 2 starting\n",
      "Thread-4 (worker) exiting\n",
      "Thread-5 (worker) exiting\n",
      "Thread-6 (worker) exiting\n",
      "Thread-7 (worker) exiting\n",
      "Thread-8 (worker) exiting\n",
      "thread no. 0 exiting\n",
      "thread no. 0 is alive: False\n",
      "thread no. 1 exiting\n",
      "thread no. 1 is alive: False\n",
      "thread no. 2 exiting\n",
      "thread no. 2 is alive: False\n"
     ]
    }
   ],
   "source": [
    "import threading\n",
    "import time\n",
    "\n",
    "class myt(threading.Thread):\n",
    "    def __init__(self,name):\n",
    "        #pass the parameter to parent class\n",
    "        super().__init__(name=name)\n",
    "\n",
    "# run() is call when start() method execute\n",
    "    def run(self):\n",
    "        print(f\"{self.name} starting\")\n",
    "        time.sleep(2)\n",
    "        print(f\"{self.name} exiting\")\n",
    "\n",
    "def main():\n",
    "    threads = []\n",
    "    for i in range(3):\n",
    "        t = myt(f\"thread no. {i}\")\n",
    "        threads.append(t)\n",
    "        t.start()\n",
    "\n",
    "    for t in threads:\n",
    "        t.join()\n",
    "        print(f\"{t.name} is alive: {t.is_alive()}\")\n",
    "\n",
    "if __name__ == \"__main__\":\n",
    "    main()"
   ]
  },
  {
   "attachments": {},
   "cell_type": "markdown",
   "metadata": {},
   "source": [
    "#### Q4. rite a python program to create two threads. Thread one must print the list of squares and thread two must print the list of cubes\n",
    "Ans. "
   ]
  },
  {
   "cell_type": "code",
   "execution_count": 3,
   "metadata": {},
   "outputs": [
    {
     "name": "stdout",
     "output_type": "stream",
     "text": [
      "[0, 1, 8, 27, 64, 125, 216, 343, 512, 729, 1000]\n",
      "[0, 1, 4, 9, 16, 25, 36, 49, 64, 81, 100]\n"
     ]
    }
   ],
   "source": [
    "import threading\n",
    "\n",
    "def squares():\n",
    "    s=[i**3 for i in range(11)]\n",
    "    print(s)\n",
    "\n",
    "def cubes():\n",
    "    c=[i**2 for i in range(11)]\n",
    "    print(c)\n",
    "\n",
    "if __name__ == \"__main__\":\n",
    "    t1 = threading.Thread(target=squares)\n",
    "    t2 = threading.Thread(target=cubes)\n",
    "    \n",
    "    t1.start()\n",
    "    t2.start()\n",
    "\n",
    "    t1.join()\n",
    "    t2.join()"
   ]
  },
  {
   "attachments": {},
   "cell_type": "markdown",
   "metadata": {},
   "source": [
    "#### Q5. State advantages and disadvantages of multithreading\n",
    "Ans. \n",
    "**Advantages of multithreading:**\n",
    "\n",
    "-   Faster program execution: By dividing the program into multiple threads, each thread can execute its own portion of the program in parallel with the other threads, which can result in faster program execution.\n",
    "-   Improved program responsiveness: Multithreading can make programs more responsive by allowing user input to be processed in one thread while another thread performs a computationally intensive task in the background.\n",
    "-   Efficient use of system resources: Multithreading allows programs to make more efficient use of system resources, such as CPU and memory, by allowing multiple threads to run concurrently.\n",
    "\n",
    "**Disadvantages of multithreading:**\n",
    "\n",
    "-   Increased complexity: Multithreaded programs can be more complex to design, implement, and debug than single-threaded programs. Synchronization between threads and the handling of shared resources can be challenging and can introduce new types of bugs.\n",
    "-   Resource contention: When multiple threads compete for the same system resources, such as CPU time or memory, they can cause resource contention, which can result in slower program execution and even program crashes.\n",
    "-   Race conditions: Race conditions can occur when two or more threads access a shared resource at the same time and the final result depends on the order in which the threads execute. This can lead to unpredictable program behavior and bugs that can be difficult to reproduce and fix.\n",
    "\n",
    "\n"
   ]
  },
  {
   "attachments": {},
   "cell_type": "markdown",
   "metadata": {},
   "source": [
    "#### Q6. Explain deadlocks and race conditions."
   ]
  },
  {
   "attachments": {},
   "cell_type": "markdown",
   "metadata": {},
   "source": [
    "Ans. Deadlocks occur when two or more threads are blocked indefinitely, waiting for each other to release resources that they need to proceed.\n",
    "Race conditions occur when the behavior of a program depends on the order or timing of events that are not under the program's control, such as the relative execution speed of different threads. This can lead to unpredictable program behavior and bugs that can be difficult to reproduce and fix."
   ]
  }
 ],
 "metadata": {
  "kernelspec": {
   "display_name": "Python 3",
   "language": "python",
   "name": "python3"
  },
  "language_info": {
   "codemirror_mode": {
    "name": "ipython",
    "version": 3
   },
   "file_extension": ".py",
   "mimetype": "text/x-python",
   "name": "python",
   "nbconvert_exporter": "python",
   "pygments_lexer": "ipython3",
   "version": "3.10.4"
  },
  "orig_nbformat": 4
 },
 "nbformat": 4,
 "nbformat_minor": 2
}
