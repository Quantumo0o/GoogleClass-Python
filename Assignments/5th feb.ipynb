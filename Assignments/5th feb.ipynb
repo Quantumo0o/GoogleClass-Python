{
 "cells": [
  {
   "cell_type": "markdown",
   "id": "363adbb7-41dd-4d12-a786-439b61aae1cf",
   "metadata": {},
   "source": [
    "#### Q1. Explain Class and Object with respect to Object-Oriented Programming. Give a suitable example."
   ]
  },
  {
   "cell_type": "markdown",
   "id": "a1440144-69e5-475f-8839-12ec70248aea",
   "metadata": {},
   "source": [
    "Ans. A class is a blueprint or template that defines the characteristics and behaviors of an object. An object is an instance of a class that contains specific values for its attributes and can perform the behaviors defined by the class."
   ]
  },
  {
   "cell_type": "code",
   "execution_count": 4,
   "id": "fffd72dc-8942-4dfd-bb74-a6bb9a98f7e4",
   "metadata": {},
   "outputs": [
    {
     "name": "stdout",
     "output_type": "stream",
     "text": [
      "Fido\n",
      "Woof!\n"
     ]
    }
   ],
   "source": [
    "# Define a class called Dog\n",
    "class Dog:\n",
    "    def __init__(self, name):\n",
    "        self.name = name\n",
    "    \n",
    "    def bark(self):\n",
    "        print('Woof!')\n",
    "\n",
    "# Create an object of the Dog class\n",
    "my_dog = Dog('Fido')\n",
    "\n",
    "# Access the attributes of the object\n",
    "print(my_dog.name) \n",
    "\n",
    "# Call the bark method of the object\n",
    "my_dog.bark()\n"
   ]
  },
  {
   "cell_type": "markdown",
   "id": "ab200816-36bb-4d49-afe7-cd09a8a50d2b",
   "metadata": {},
   "source": [
    "#### Q2. Name the four pillars of OOPs."
   ]
  },
  {
   "cell_type": "markdown",
   "id": "d82e0130-cfc2-415b-9479-1565222d420b",
   "metadata": {},
   "source": [
    "Ans. The four pillars of object-oriented programming (OOP) are:\n",
    "\n",
    "**Encapsulation**: the bundling of data and methods that manipulate that data, to protect it from outside interference and misuse.\n",
    "\n",
    "**Abstraction:** the ability to focus on the essential features of an object while ignoring its implementation details.\n",
    "\n",
    "**Inheritance:** the ability to create a new class from an existing class by inheriting its attributes and methods.\n",
    "\n",
    "**Polymorphism:** the ability of objects of different classes to be used interchangeably, often achieved through method overriding and method overloading."
   ]
  },
  {
   "cell_type": "markdown",
   "id": "6a38dd45-9fbd-4efc-acde-22e976efb78b",
   "metadata": {},
   "source": [
    "#### Q3. Explain why the __init__() function is used. Give a suitable example."
   ]
  },
  {
   "cell_type": "markdown",
   "id": "3839cca7-f7b9-41ea-8bcc-fefd8b6b4a9c",
   "metadata": {},
   "source": [
    "Ans. it is used to initialize the attributes of an object when it is created from a class.\n",
    "\n",
    "Example"
   ]
  },
  {
   "cell_type": "code",
   "execution_count": 9,
   "id": "51512ca5-4608-4f93-a4ae-d66f02a0cc0f",
   "metadata": {},
   "outputs": [
    {
     "name": "stdout",
     "output_type": "stream",
     "text": [
      "Alice\n",
      "Bob\n"
     ]
    }
   ],
   "source": [
    "class Person:\n",
    "    def __init__(self, name, age):\n",
    "        self.name = name\n",
    "        self.age = age\n",
    "\n",
    "person1 = Person('Alice', 25)\n",
    "person2 = Person('Bob', 30)\n",
    "print(person1.name)\n",
    "print(person2.name)\n"
   ]
  },
  {
   "cell_type": "markdown",
   "id": "b1f51ca3-2e6c-40da-a6e3-d398247cc9b4",
   "metadata": {},
   "source": [
    "#### Q4. Why self is used in OOPs?"
   ]
  },
  {
   "cell_type": "markdown",
   "id": "b1358ffd-50a0-45ee-a229-28065b7f39d2",
   "metadata": {},
   "source": [
    "Ans. **self** is used in object-oriented programming (OOP) to refer to the object itself, allowing access to its attributes and methods from within the class."
   ]
  },
  {
   "cell_type": "markdown",
   "id": "44c543a1-8f45-4863-a24f-a328cd8637c6",
   "metadata": {},
   "source": [
    "#### Q5. What is inheritance? Give an example for each type of inheritance."
   ]
  },
  {
   "cell_type": "markdown",
   "id": "f228b87b-bedf-4475-bbbe-6dfeba6037d6",
   "metadata": {},
   "source": [
    "Ans. Inheritance is a mechanism in object-oriented programming where a new class is created by deriving properties and behaviors from an existing class.\n",
    "\n",
    "Example:\n",
    "- Single inheritance: a new class is derived from a single existing class."
   ]
  },
  {
   "cell_type": "code",
   "execution_count": 11,
   "id": "8ab996ed-a6e8-442f-9721-d34474d12e40",
   "metadata": {},
   "outputs": [],
   "source": [
    "class Animal:\n",
    "    def __init__(self, name):\n",
    "        self.name = name\n",
    "    \n",
    "    def eat(self):\n",
    "        print(\"Nom nom nom\")\n",
    "\n",
    "class Dog(Animal):\n",
    "    def bark(self):\n",
    "        print(\"Woof\")\n"
   ]
  },
  {
   "cell_type": "markdown",
   "id": "4695d7cf-49aa-4161-b666-db3a2cbe9fc9",
   "metadata": {},
   "source": [
    "- Multiple inheritance: a new class is derived from multiple existing classes."
   ]
  },
  {
   "cell_type": "code",
   "execution_count": 13,
   "id": "865ead4a-de5b-4d4e-80a8-cfee8a8e5085",
   "metadata": {},
   "outputs": [],
   "source": [
    "class Animal:\n",
    "    def __init__(self, name):\n",
    "        self.name = name\n",
    "    \n",
    "    def eat(self):\n",
    "        print('Nom nom nom')\n",
    "\n",
    "class Mammal:\n",
    "    def nurse(self):\n",
    "        print('Feeding babies')\n",
    "\n",
    "class Platypus(Animal, Mammal):\n",
    "    pass"
   ]
  },
  {
   "cell_type": "markdown",
   "id": "4fa2eb03-812a-49ad-9d30-1f5cc82fdce5",
   "metadata": {},
   "source": [
    "- Multilevel inheritance: a new class is derived from a class that is itself derived from another class."
   ]
  },
  {
   "cell_type": "code",
   "execution_count": 14,
   "id": "a4dc41fc-5325-41d3-b5e9-99adbc404fc1",
   "metadata": {},
   "outputs": [],
   "source": [
    "class Animal:\n",
    "    def __init__(self, name):\n",
    "        self.name = name\n",
    "    \n",
    "    def eat(self):\n",
    "        print('Nom nom nom')\n",
    "\n",
    "class Mammal(Animal):\n",
    "    def nurse(self):\n",
    "        print('Feeding babies')\n",
    "\n",
    "class Platypus(Mammal):\n",
    "    pass\n"
   ]
  },
  {
   "cell_type": "markdown",
   "id": "86923c84-0a64-40ea-af26-4adb183d9bd3",
   "metadata": {},
   "source": [
    "- Hierarchical inheritance: multiple new classes are derived from a single existing class."
   ]
  },
  {
   "cell_type": "code",
   "execution_count": 15,
   "id": "40363082-cc9e-4dcb-9e5c-8abd001b659f",
   "metadata": {},
   "outputs": [],
   "source": [
    "class Animal:\n",
    "    def __init__(self, name):\n",
    "        self.name = name\n",
    "    \n",
    "    def eat(self):\n",
    "        print('Nom nom nom')\n",
    "\n",
    "class Dog(Animal):\n",
    "    def bark(self):\n",
    "        print('Woof!')\n",
    "\n",
    "class Cat(Animal):\n",
    "    def meow(self):\n",
    "        print('Meow!')\n"
   ]
  },
  {
   "cell_type": "code",
   "execution_count": null,
   "id": "b382ccbf-287e-4fb9-b2bf-d1c3ec552110",
   "metadata": {},
   "outputs": [],
   "source": []
  }
 ],
 "metadata": {
  "kernelspec": {
   "display_name": "Python 3 (ipykernel)",
   "language": "python",
   "name": "python3"
  },
  "language_info": {
   "codemirror_mode": {
    "name": "ipython",
    "version": 3
   },
   "file_extension": ".py",
   "mimetype": "text/x-python",
   "name": "python",
   "nbconvert_exporter": "python",
   "pygments_lexer": "ipython3",
   "version": "3.10.8"
  }
 },
 "nbformat": 4,
 "nbformat_minor": 5
}
