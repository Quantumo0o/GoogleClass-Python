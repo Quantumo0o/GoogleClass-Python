{
 "cells": [
  {
   "cell_type": "markdown",
   "id": "ac7410ea-b7d5-48b5-8308-abef657c80dc",
   "metadata": {},
   "source": [
    "**Question 1**\n",
    "Given an integer array nums of 2n integers, group these integers into n pairs (a1, b1), (a2, b2),..., (an, bn) such that the sum of min(ai, bi) for all i is maximized. Return the maximized sum.\n",
    "\n",
    "**Example 1:**\n",
    "Input: nums = [1,4,3,2]\n",
    "Output: 4\n",
    "\n",
    "**Explanation:** All possible pairings (ignoring the ordering of elements) are:\n",
    "\n",
    "1. (1, 4), (2, 3) -> min(1, 4) + min(2, 3) = 1 + 2 = 3\n",
    "2. (1, 3), (2, 4) -> min(1, 3) + min(2, 4) = 1 + 2 = 3\n",
    "3. (1, 2), (3, 4) -> min(1, 2) + min(3, 4) = 1 + 3 = 4\n",
    "So the maximum possible sum is 4  \n",
    "\n",
    "**Ans :**\n"
   ]
  },
  {
   "cell_type": "markdown",
   "id": "f304f7b1-00eb-462b-b077-5781b969f3b7",
   "metadata": {},
   "source": [
    "The maximized output will achived if pairs make in sorted order. By using this concept following function will work :-"
   ]
  },
  {
   "cell_type": "code",
   "execution_count": 39,
   "id": "fb1206b2-3f9e-4956-bbcc-3ab85259ec6a",
   "metadata": {},
   "outputs": [],
   "source": [
    "def maximized_sum(nums):\n",
    "    l = len(nums)\n",
    "    max_sum=0\n",
    "    for x in range(0,l,2):\n",
    "        max_sum+=min([sorted(nums)[x],sorted(nums)[x+1]])\n",
    "    return max_sum"
   ]
  },
  {
   "cell_type": "code",
   "execution_count": 40,
   "id": "87f0f5b5-bc78-462d-9b2c-b5d5dc204ee7",
   "metadata": {},
   "outputs": [
    {
     "name": "stdout",
     "output_type": "stream",
     "text": [
      "13\n"
     ]
    }
   ],
   "source": [
    "nums = [1,2,9,8,4,5]\n",
    "print(maximized_sum(nums))"
   ]
  },
  {
   "cell_type": "markdown",
   "id": "bacee79e-694f-4b8f-b1f5-f7447a3f7f5a",
   "metadata": {},
   "source": [
    "**Question 2**\n",
    "Alice has n candies, where the ith candy is of type candyType[i]. Alice noticed that she started to gain weight, so she visited a doctor. \n",
    "\n",
    "The doctor advised Alice to only eat n / 2 of the candies she has (n is always even). Alice likes her candies very much, and she wants to eat the maximum number of different types of candies while still following the doctor's advice. \n",
    "\n",
    "Given the integer array candyType of length n, return the maximum number of different types of candies she can eat if she only eats n / 2 of them.\n",
    "\n",
    "Example 1:\n",
    "Input: candyType = [1,1,2,2,3,3]\n",
    "Output: 3\n",
    "\n",
    "Explanation: Alice can only eat 6 / 2 = 3 candies. Since there are only 3 types, she can eat one of each type.   \n",
    "**Ans :**"
   ]
  },
  {
   "cell_type": "code",
   "execution_count": 37,
   "id": "a813b826-febd-4563-88c5-c31e7d736004",
   "metadata": {},
   "outputs": [],
   "source": [
    "def max_candytype(candyType):\n",
    "    variety = len(set(candyType))\n",
    "    if variety <= int(len(candyType)/2):\n",
    "        max_type = variety\n",
    "        return max_type\n",
    "    else:\n",
    "        max_type=int(len(candyType)/2)\n",
    "        return max_type\n",
    "    "
   ]
  },
  {
   "cell_type": "code",
   "execution_count": 38,
   "id": "0eb08db5-0339-4239-b950-44186615291e",
   "metadata": {},
   "outputs": [
    {
     "name": "stdout",
     "output_type": "stream",
     "text": [
      "4\n"
     ]
    }
   ],
   "source": [
    "candyType = [1,1,2,2,3,4,5,6]\n",
    "print(max_candytype(candyType))"
   ]
  },
  {
   "cell_type": "markdown",
   "id": "66c84017-4589-4960-aa29-dcd94bd4ff3b",
   "metadata": {},
   "source": [
    "**Question 3**\n",
    "We define a harmonious array as an array where the difference between its maximum value\n",
    "and its minimum value is exactly 1.\n",
    "\n",
    "Given an integer array nums, return the length of its longest harmonious subsequence\n",
    "among all its possible subsequences.\n",
    "\n",
    "A subsequence of an array is a sequence that can be derived from the array by deleting some or no elements without changing the order of the remaining elements.\n",
    "\n",
    "Example 1:\n",
    "Input: nums = [1,3,2,2,5,2,3,7]\n",
    "Output: 5\n",
    "\n",
    "Explanation: The longest harmonious subsequence is [3,2,2,2,3].  \n",
    "**Ans :**"
   ]
  },
  {
   "cell_type": "code",
   "execution_count": 41,
   "id": "6d5730f4-9396-4106-b365-47cc46f6d20f",
   "metadata": {},
   "outputs": [
    {
     "name": "stdout",
     "output_type": "stream",
     "text": [
      "12\n"
     ]
    }
   ],
   "source": [
    "def h_array(nums):\n",
    "    temp=set()\n",
    "    x=0\n",
    "    max_har=0\n",
    "    while temp!=set(nums):\n",
    "        if nums[x]+1 in nums:\n",
    "            totle_element=nums.count(nums[x])+nums.count(nums[x]+1)\n",
    "            if max_har < totle_element:\n",
    "                max_har = totle_element\n",
    "        temp.add(nums[x])\n",
    "        x+=1\n",
    "    return max_har\n",
    "        \n",
    "        \n",
    "nums = [1,3,2,2,5,2,3,3,7,7,7,7,7,6,6,6,6,6,5,5,5,5,5,5]\n",
    "print(h_array(nums))"
   ]
  },
  {
   "cell_type": "markdown",
   "id": "4a1e7855-2201-467b-90fa-40e2a409ec9b",
   "metadata": {},
   "source": [
    "**Question 4**\n",
    "You have a long flowerbed in which some of the plots are planted, and some are not.\n",
    "However, flowers cannot be planted in adjacent plots.\n",
    "Given an integer array flowerbed containing 0's and 1's, where 0 means empty and 1 means not empty, and an integer n, return true if n new flowers can be planted in the flowerbed without violating the no-adjacent-flowers rule and false otherwise.\n",
    "\n",
    "**Example 1:**\n",
    "Input: flowerbed = [1,0,0,0,1], n = 1  \n",
    "Output: true   \n",
    "**Ans :**"
   ]
  },
  {
   "cell_type": "code",
   "execution_count": 42,
   "id": "0baed7d7-40fc-4f56-8512-cc43a14957bf",
   "metadata": {},
   "outputs": [
    {
     "name": "stdout",
     "output_type": "stream",
     "text": [
      "True\n"
     ]
    }
   ],
   "source": [
    "def check(flowerbed,n):\n",
    "    i=len(flowerbed)-2\n",
    "    count=0\n",
    "    for x in range(i):\n",
    "        if flowerbed[x]==flowerbed[x+1]==flowerbed[x+2]==0:\n",
    "            count += 1\n",
    "    count +=1\n",
    "    if count/2 >= n:\n",
    "        return True\n",
    "    else:\n",
    "        return False\n",
    "flowerbed=[1,0,0,0,0,0,0,0,1]\n",
    "n=3\n",
    "print(check(flowerbed,n))"
   ]
  },
  {
   "cell_type": "markdown",
   "id": "848f603d-c782-47fc-a236-64c64f451ad0",
   "metadata": {},
   "source": [
    "**Question 5**\n",
    "Given an integer array nums, find three numbers whose product is maximum and return the maximum product.\n",
    "\n",
    "Example 1:\n",
    "Input: nums = [1,2,3]  \n",
    "Output: 6   \n",
    "**Ans :**"
   ]
  },
  {
   "cell_type": "code",
   "execution_count": 44,
   "id": "14cb8430-89a0-47a3-97ff-8d2b4908958c",
   "metadata": {},
   "outputs": [],
   "source": [
    "def max_product(nums):\n",
    "    max_int_list = sorted(nums)[-3:]\n",
    "    max_product=max_int_list[0]*max_int_list[1]*max_int_list[2]\n",
    "    return max_product"
   ]
  },
  {
   "cell_type": "code",
   "execution_count": 45,
   "id": "919854fc-0496-4ce8-b4c6-5a0d6f0157d9",
   "metadata": {},
   "outputs": [
    {
     "name": "stdout",
     "output_type": "stream",
     "text": [
      "504\n"
     ]
    }
   ],
   "source": [
    "nums=[2,1,3,5,4,6,8,7,9]\n",
    "print(max_product(nums))"
   ]
  },
  {
   "cell_type": "markdown",
   "id": "1b21fafc-1e4c-49cf-b4f8-adb53e532566",
   "metadata": {},
   "source": [
    "**Question 6**\n",
    "Given an array of integers nums which is sorted in ascending order, and an integer target,\n",
    "write a function to search target in nums. If target exists, then return its index. Otherwise,\n",
    "return -1.\n",
    "\n",
    "You must write an algorithm with O(log n) runtime complexity.\n",
    "\n",
    "Input: nums = [-1,0,3,5,9,12], target = 9\n",
    "Output: 4\n",
    "\n",
    "Explanation: 9 exists in nums and its index is 4   \n",
    "**Ans :**"
   ]
  },
  {
   "cell_type": "code",
   "execution_count": 11,
   "id": "e58ae0bc-f926-45ab-9c00-09fca119524e",
   "metadata": {},
   "outputs": [],
   "source": [
    "def target_index(nums,t):\n",
    "    if t in nums:\n",
    "        x=nums.index(t)\n",
    "    else:\n",
    "        x=-1\n",
    "    return x"
   ]
  },
  {
   "cell_type": "code",
   "execution_count": 46,
   "id": "ff750f91-654e-463a-b9b9-08704cbd98ea",
   "metadata": {},
   "outputs": [
    {
     "name": "stdout",
     "output_type": "stream",
     "text": [
      "2\n"
     ]
    }
   ],
   "source": [
    "nums = [-1,0,3,5,9,12]\n",
    "target = 3\n",
    "print(target_index(nums,target))"
   ]
  },
  {
   "cell_type": "markdown",
   "id": "79fd4521-d2e6-4576-bf95-72dcdf1a1107",
   "metadata": {},
   "source": [
    "**Question 7**\n",
    "An array is monotonic if it is either monotone increasing or monotone decreasing.\n",
    "\n",
    "An array nums is monotone increasing if for all i <= j, nums[i] <= nums[j]. An array nums is\n",
    "monotone decreasing if for all i <= j, nums[i] >= nums[j].\n",
    "\n",
    "Given an integer array nums, return true if the given array is monotonic, or false otherwise.\n",
    "\n",
    "Example 1:\n",
    "Input: nums = [1,2,2,3]\n",
    "Output: true   \n",
    "**Ans :**"
   ]
  },
  {
   "cell_type": "code",
   "execution_count": 47,
   "id": "d4e7d8fe-c466-4b69-83f9-2852a7dd2280",
   "metadata": {},
   "outputs": [
    {
     "name": "stdout",
     "output_type": "stream",
     "text": [
      "True\n"
     ]
    }
   ],
   "source": [
    "def monotonic_check(nums):\n",
    "    l = len(nums)\n",
    "    inc = 0\n",
    "    dec = 0\n",
    "    for i in range(l-1):\n",
    "        if nums[i]<=nums[i+1]:\n",
    "            inc+=1\n",
    "\n",
    "        if nums[i]>=nums[i+1]:\n",
    "            dec+=1\n",
    "    if inc==l-1 or dec==l-1:\n",
    "        return True\n",
    "    else:\n",
    "        return False\n",
    "\n",
    "nums = [8,7,6,5,4,3,3,2,2,1]\n",
    "print(monotonic_check(nums) )     \n",
    "    "
   ]
  },
  {
   "cell_type": "markdown",
   "id": "de3ae0df-deb7-4f5b-b481-c7051cf08679",
   "metadata": {},
   "source": [
    "**Question 8**\n",
    "You are given an integer array nums and an integer k.\n",
    "\n",
    "In one operation, you can choose any index i where 0 <= i < nums.length and change nums[i] to nums[i] + x where x is an integer from the range [-k, k]. You can apply this operation at most once for each index i.\n",
    "\n",
    "The score of nums is the difference between the maximum and minimum elements in nums.\n",
    "\n",
    "Return the minimum score of nums after applying the mentioned operation at most once for each index in it.\n",
    "\n",
    "Example 1:\n",
    "Input: nums = [1], k = 0\n",
    "Output: 0\n",
    "\n",
    "Explanation: The score is max(nums) - min(nums) = 1 - 1 = 0.   \n",
    "**Ans :**"
   ]
  },
  {
   "cell_type": "code",
   "execution_count": 56,
   "id": "cd8018ef-6a7d-4dfa-91c0-ad19f7956dd8",
   "metadata": {},
   "outputs": [],
   "source": [
    "import random"
   ]
  },
  {
   "cell_type": "code",
   "execution_count": 79,
   "id": "d538096d-41b4-437d-af91-e5f814555783",
   "metadata": {},
   "outputs": [
    {
     "name": "stdout",
     "output_type": "stream",
     "text": [
      "0\n",
      "3\n"
     ]
    }
   ],
   "source": [
    "def score(nums,k):\n",
    "    score_list=[]\n",
    "    x=0\n",
    "    for i in range(len(nums)):\n",
    "        if k != 0:\n",
    "            x=random.randrange(-k,k)\n",
    "        nums[i]=nums[i]+x\n",
    "        score_list.append(max(nums)-min(nums))\n",
    "\n",
    "    return min(score_list)\n",
    "        \n",
    "nums=[1]\n",
    "k=0\n",
    "print(score(nums,k))\n",
    "\n",
    "nums2=[1,2,3,4]\n",
    "k2=2\n",
    "print(score(nums2,k2))"
   ]
  },
  {
   "cell_type": "code",
   "execution_count": null,
   "id": "26b86d5f-9a23-4d82-aefc-777373eaca88",
   "metadata": {},
   "outputs": [],
   "source": []
  },
  {
   "cell_type": "code",
   "execution_count": null,
   "id": "deca8be0-1231-4ccf-a7fb-d0b2bbd8d0cd",
   "metadata": {},
   "outputs": [],
   "source": []
  }
 ],
 "metadata": {
  "kernelspec": {
   "display_name": "Python 3 (ipykernel)",
   "language": "python",
   "name": "python3"
  },
  "language_info": {
   "codemirror_mode": {
    "name": "ipython",
    "version": 3
   },
   "file_extension": ".py",
   "mimetype": "text/x-python",
   "name": "python",
   "nbconvert_exporter": "python",
   "pygments_lexer": "ipython3",
   "version": "3.10.8"
  }
 },
 "nbformat": 4,
 "nbformat_minor": 5
}
