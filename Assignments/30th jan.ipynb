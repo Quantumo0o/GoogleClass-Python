{
 "cells": [
  {
   "cell_type": "markdown",
   "id": "de3927f8-8aa0-462e-80e7-d588b5900957",
   "metadata": {},
   "source": [
    "### Q1. Write a program to accept percentage from the user and display the grade according to the following criteria:\n",
    "    Marks          -  Grade\n",
    "    >90            -  A\n",
    "    >80 and <=90   -  B\n",
    "    >=60 and <=80  -  C\n",
    "    below 60       -  D\n",
    "\n"
   ]
  },
  {
   "cell_type": "code",
   "execution_count": 3,
   "id": "30f21430-1795-4d8e-bed5-1113938f6d4f",
   "metadata": {},
   "outputs": [
    {
     "name": "stdin",
     "output_type": "stream",
     "text": [
      "Enter the percentage here 78\n"
     ]
    },
    {
     "name": "stdout",
     "output_type": "stream",
     "text": [
      "Your Grade is C\n"
     ]
    }
   ],
   "source": [
    "mark=int(input(\"Enter the percentage here\"))\n",
    "if mark>90:\n",
    "    grade=\"A\"\n",
    "elif mark>80 and mark<=90:\n",
    "    grade=\"B\"\n",
    "elif mark>=60 and mark<=80:\n",
    "    grade=\"C\"\n",
    "else:\n",
    "    grade=\"D\"\n",
    "\n",
    "print(f\"Your Grade is {grade}\")"
   ]
  },
  {
   "cell_type": "markdown",
   "id": "55868ef7-4a13-4456-8426-e48bcff523c0",
   "metadata": {},
   "source": [
    "#### Q2. Write a program to accept the cost price of a bike and display the road tax to be paid according to the following criteria:\n",
    "    Tax  -  Cost Princ (in Rs)\n",
    "    15%  - >100000\n",
    "    10%  - >50000 and <=100000\n",
    "    5%   - <=50000"
   ]
  },
  {
   "cell_type": "code",
   "execution_count": 4,
   "id": "6952251c-296a-49c6-a6bc-904c2433edd8",
   "metadata": {},
   "outputs": [
    {
     "name": "stdin",
     "output_type": "stream",
     "text": [
      "Enter the Bike price here 760000\n"
     ]
    },
    {
     "name": "stdout",
     "output_type": "stream",
     "text": [
      "Road tax is : 114000.0\n"
     ]
    }
   ],
   "source": [
    "Bike_cost=int(input(\"Enter the Bike price here\"))\n",
    "if Bike_cost>100000:\n",
    "    tax=Bike_cost*0.15\n",
    "elif Bike_cost>50000 and Bike_cost<=100000:\n",
    "    tax=Bike_cost*0.1\n",
    "else:\n",
    "    tax=Bike_cost*0.05\n",
    "\n",
    "print(f\"Road tax is : {tax}\")"
   ]
  },
  {
   "cell_type": "markdown",
   "id": "3dede741-b6d3-427a-bb52-9abd240cfc09",
   "metadata": {},
   "source": [
    "#### Q3. Accept any city from the user and display monuments of that city.\n",
    "    City    -    Monument\n",
    "    Delhi   -    Red Fort\n",
    "    Agra    -    Taj Mahal\n",
    "    Jaipur  -    Jal Mahal\n",
    "    "
   ]
  },
  {
   "cell_type": "code",
   "execution_count": 5,
   "id": "ef2d1628-16e4-404b-88a2-c6d19f464d3c",
   "metadata": {},
   "outputs": [
    {
     "name": "stdin",
     "output_type": "stream",
     "text": [
      "Enter the city name : Agra\n"
     ]
    },
    {
     "name": "stdout",
     "output_type": "stream",
     "text": [
      "Road tax is : Taj Mahal\n"
     ]
    }
   ],
   "source": [
    "city=input(\"Enter the city name :\").lower()\n",
    "if city==\"delhi\":\n",
    "    monu=\"Red Fort\"\n",
    "elif city==\"agra\":\n",
    "    monu=\"Taj Mahal\"\n",
    "elif city==\"Jaipur\":\n",
    "    monu=\"Jal Mahul\"\n",
    "else:\n",
    "    monu=\"Date not found\"\n",
    "\n",
    "print(f\"Road tax is : {monu}\")"
   ]
  },
  {
   "cell_type": "markdown",
   "id": "96036192-d78e-45aa-95af-94394302c4c4",
   "metadata": {},
   "source": [
    "#### Q4. Check how amny times a given number can be divided by 3 before it is less than or equal to 10.\n"
   ]
  },
  {
   "cell_type": "code",
   "execution_count": 6,
   "id": "8de77942-0347-43b9-a18a-7be14d6c055d",
   "metadata": {},
   "outputs": [
    {
     "name": "stdin",
     "output_type": "stream",
     "text": [
      "enter the number: 44\n"
     ]
    },
    {
     "name": "stdout",
     "output_type": "stream",
     "text": [
      "number is more than 10\n",
      "44 divided by 3: 14 times\n"
     ]
    }
   ],
   "source": [
    "number=int(input(\"enter the number:\"))\n",
    "result=number//3\n",
    "if number<=10:\n",
    "    print(\"number is less than and equal to 10\")\n",
    "else:\n",
    "    print(\"number is more than 10\")\n",
    "print(f\"{number} divided by 3: {result} times\")"
   ]
  },
  {
   "cell_type": "markdown",
   "id": "f1efffe1-6932-40d6-8072-5cb8a2d81f09",
   "metadata": {
    "tags": []
   },
   "source": [
    "#### Q5. Why and when to use while Loop in Python give a detailed description with example.\n",
    "Ans. While Loop in python execute a **block of code** until the given condition remains **true**\n",
    "\n",
    "it used Whenever you do not know in advance how many times block of code or task required repeation\n",
    "#### Eg.\n"
   ]
  },
  {
   "cell_type": "code",
   "execution_count": 9,
   "id": "d8b8848d-03ad-4b71-9b31-bfdad8427f81",
   "metadata": {
    "tags": []
   },
   "outputs": [
    {
     "name": "stdout",
     "output_type": "stream",
     "text": [
      "Sum of the numbers is: 0\n"
     ]
    },
    {
     "name": "stdin",
     "output_type": "stream",
     "text": [
      "Enter the number (exit on negetive number) 1\n"
     ]
    },
    {
     "name": "stdout",
     "output_type": "stream",
     "text": [
      "Sum of the numbers is: 1\n"
     ]
    },
    {
     "name": "stdin",
     "output_type": "stream",
     "text": [
      "Enter the number (exit on negetive number) 2\n"
     ]
    },
    {
     "name": "stdout",
     "output_type": "stream",
     "text": [
      "Sum of the numbers is: 3\n"
     ]
    },
    {
     "name": "stdin",
     "output_type": "stream",
     "text": [
      "Enter the number (exit on negetive number) 4\n"
     ]
    },
    {
     "name": "stdout",
     "output_type": "stream",
     "text": [
      "Sum of the numbers is: 7\n"
     ]
    },
    {
     "name": "stdin",
     "output_type": "stream",
     "text": [
      "Enter the number (exit on negetive number) -5\n"
     ]
    }
   ],
   "source": [
    "sum=0\n",
    "i=0\n",
    "while i>=0:\n",
    "    sum=sum+i\n",
    "    print(f\"Sum of the numbers is: {sum}\")\n",
    "    i=int(input(\"Enter the number (exit on negetive number)\"))\n"
   ]
  },
  {
   "cell_type": "markdown",
   "id": "daf2166a-982d-492e-8ae0-365520cd6cdb",
   "metadata": {
    "tags": []
   },
   "source": [
    "#### Q6. Use nested while loop to print 3 different pattern."
   ]
  },
  {
   "cell_type": "code",
   "execution_count": 9,
   "id": "d1e74ee9-90fe-4e96-a64e-bfbe7570c515",
   "metadata": {},
   "outputs": [
    {
     "name": "stdout",
     "output_type": "stream",
     "text": [
      "**********\n",
      " ********\n",
      "  ******\n",
      "   ****\n",
      "    **********\n",
      "     ********\n",
      "      ******\n",
      "       ****\n",
      "        **********\n",
      "         ********\n",
      "          ******\n",
      "           ****\n"
     ]
    }
   ],
   "source": [
    "s=0\n",
    "i=0\n",
    "while i < 3:\n",
    "    j=10\n",
    "    while j>2:\n",
    "        print(\" \"*s,end=\"\")\n",
    "        print(\"*\"*j)\n",
    "        j=j-2\n",
    "        s=s+1\n",
    "    i=i+1\n",
    "    "
   ]
  },
  {
   "cell_type": "code",
   "execution_count": 16,
   "id": "e8a1e881-c4aa-4009-9ea4-adf4fec305d6",
   "metadata": {},
   "outputs": [
    {
     "name": "stdout",
     "output_type": "stream",
     "text": [
      "********************\n",
      " ******************\n",
      "  ****************\n",
      "   **************\n",
      "    ************\n",
      "     **********\n",
      "      ********\n",
      "       ******\n",
      "        ****\n",
      "         **\n",
      "********************\n",
      " ******************\n",
      "  ****************\n",
      "   **************\n",
      "    ************\n",
      "     **********\n",
      "      ********\n",
      "       ******\n",
      "        ****\n",
      "         **\n"
     ]
    }
   ],
   "source": [
    "\n",
    "i=0\n",
    "while i < 2:\n",
    "    j=20\n",
    "    s=0\n",
    "    while j>1:\n",
    "        print(\" \"*s,end=\"\")\n",
    "        print(\"*\"*j)\n",
    "        j=j-2\n",
    "        s=s+1\n",
    "    i=i+1\n",
    "    "
   ]
  },
  {
   "cell_type": "code",
   "execution_count": 36,
   "id": "b7ea1174-37db-47cd-a43a-19f42b6a5516",
   "metadata": {},
   "outputs": [
    {
     "name": "stdout",
     "output_type": "stream",
     "text": [
      "@  @\n",
      " @ ** @\n",
      "  @ **** @\n",
      "   @ ****** @\n",
      "    @ ******** @\n",
      "     @ ********** @\n",
      "      @ ************ @\n",
      "       @ ************** @\n",
      "        @ **************** @\n",
      "         @ ****************** @\n",
      "@  @\n",
      " @ ** @\n",
      "  @ **** @\n",
      "   @ ****** @\n",
      "    @ ******** @\n",
      "     @ ********** @\n",
      "      @ ************ @\n",
      "       @ ************** @\n",
      "        @ **************** @\n",
      "         @ ****************** @\n"
     ]
    }
   ],
   "source": [
    "import math\n",
    "i=0\n",
    "while i < 2:\n",
    "    j=0\n",
    "    s=0\n",
    "    while j<20:\n",
    "        print(\" \"*s,end=\"\")\n",
    "        print(\"@\",\"*\"*j,\"@\")\n",
    "        j=j+2\n",
    "        s=s+1\n",
    "    i=i+1\n",
    "    "
   ]
  },
  {
   "cell_type": "code",
   "execution_count": 38,
   "id": "e905b44d-5263-45bc-9a3d-556723d91d1b",
   "metadata": {},
   "outputs": [
    {
     "name": "stdout",
     "output_type": "stream",
     "text": [
      "          @  @\n",
      "         @ ** @\n",
      "        @ **** @\n",
      "       @ ****** @\n",
      "      @ ******** @\n",
      "     @ ********** @\n",
      "    @ ************ @\n",
      "   @ ************** @\n",
      "  @ **************** @\n",
      " @ ****************** @\n",
      "          @  @\n",
      "         @ ** @\n",
      "        @ **** @\n",
      "       @ ****** @\n",
      "      @ ******** @\n",
      "     @ ********** @\n",
      "    @ ************ @\n",
      "   @ ************** @\n",
      "  @ **************** @\n",
      " @ ****************** @\n"
     ]
    }
   ],
   "source": [
    "\n",
    "i=0\n",
    "while i < 2:\n",
    "    j=0\n",
    "    s=10\n",
    "    while j<20:\n",
    "        print(\" \"*s,end=\"\")\n",
    "        print(\"@\",\"*\"*j,\"@\")\n",
    "        j=j+2\n",
    "        s=s-1\n",
    "    i=i+1\n",
    "    "
   ]
  },
  {
   "cell_type": "markdown",
   "id": "ca3ecf16-08c5-4b64-af05-21faee1d6a91",
   "metadata": {},
   "source": [
    "#### Q7. Reverse a while loop to display numbers from 10 to 1."
   ]
  },
  {
   "cell_type": "code",
   "execution_count": 61,
   "id": "9f9a486f-71fe-48c2-b903-dc04e1ed635b",
   "metadata": {},
   "outputs": [
    {
     "name": "stdout",
     "output_type": "stream",
     "text": [
      "10\n",
      "9\n",
      "8\n",
      "7\n",
      "6\n",
      "5\n",
      "4\n",
      "3\n",
      "2\n",
      "1\n"
     ]
    }
   ],
   "source": [
    "n=10\n",
    "i=0\n",
    "while i <10:\n",
    "    print(n-i)\n",
    "    i+=1\n",
    "    "
   ]
  },
  {
   "cell_type": "code",
   "execution_count": null,
   "id": "4a398f5b-2f82-4625-a0f5-124a588bdf53",
   "metadata": {},
   "outputs": [],
   "source": []
  },
  {
   "cell_type": "code",
   "execution_count": null,
   "id": "37f73c70-d638-415a-94bd-9c86584f3cfd",
   "metadata": {},
   "outputs": [],
   "source": []
  },
  {
   "cell_type": "code",
   "execution_count": null,
   "id": "6cecc448-3356-4082-a9b4-cdb3a2dfdee1",
   "metadata": {},
   "outputs": [],
   "source": []
  },
  {
   "cell_type": "code",
   "execution_count": null,
   "id": "b3011f10-ff14-491f-be10-a31622797b13",
   "metadata": {},
   "outputs": [],
   "source": []
  },
  {
   "cell_type": "code",
   "execution_count": null,
   "id": "31d84a6a-3ddb-49d4-a71c-e5b91ae1d003",
   "metadata": {},
   "outputs": [],
   "source": []
  }
 ],
 "metadata": {
  "kernelspec": {
   "display_name": "Python 3 (ipykernel)",
   "language": "python",
   "name": "python3"
  },
  "language_info": {
   "codemirror_mode": {
    "name": "ipython",
    "version": 3
   },
   "file_extension": ".py",
   "mimetype": "text/x-python",
   "name": "python",
   "nbconvert_exporter": "python",
   "pygments_lexer": "ipython3",
   "version": "3.10.8"
  }
 },
 "nbformat": 4,
 "nbformat_minor": 5
}
