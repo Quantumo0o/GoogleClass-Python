{
 "cells": [
  {
   "cell_type": "markdown",
   "id": "390844f4-fc0e-4ed8-bade-e84846eeadac",
   "metadata": {},
   "source": [
    "#### Q1. who developed python programming language?"
   ]
  },
  {
   "cell_type": "markdown",
   "id": "5b21b4ab-8822-43ae-81f1-6a7831080519",
   "metadata": {},
   "source": [
    "Ans. Python programming language was developed by Guido van Rossum. He started working on Python in December 1989 and the first version of Python was released on February 20, 1991."
   ]
  },
  {
   "cell_type": "markdown",
   "id": "cfc75ee4-fcfd-4e6b-8c21-c8c17cc0cbf3",
   "metadata": {},
   "source": [
    "#### Q2. which type of programming dose python support?"
   ]
  },
  {
   "cell_type": "markdown",
   "id": "df6fc26d-aaf3-4e92-977c-edee53f1123b",
   "metadata": {},
   "source": [
    "Ans. Python supports multiple programming paradigms, including object-oriented, functional, and procedural programming."
   ]
  },
  {
   "cell_type": "markdown",
   "id": "9600234a-57ed-4cd8-9c44-60429e1b7095",
   "metadata": {},
   "source": [
    "#### Q3. is Python case sensitive when dealing with identifies?"
   ]
  },
  {
   "cell_type": "markdown",
   "id": "a90d7967-e31c-4388-b043-573965353958",
   "metadata": {},
   "source": [
    "Ans. Yes, Python is case sensitive when dealing with identifiers. This means that names, variables, function names, and other identifiers in Python must always be written with the correct case.\n",
    "For example, \"myVariable\" is not the same as \"myvariable\" or \"MyVariable\"."
   ]
  },
  {
   "cell_type": "markdown",
   "id": "1dd79226-0ccc-4f05-8207-4141560c38bc",
   "metadata": {},
   "source": [
    "#### Q4. what is the correct extension of the python file?"
   ]
  },
  {
   "cell_type": "markdown",
   "id": "aacf0318-0c91-47c5-96e1-c759e67f2591",
   "metadata": {},
   "source": [
    "The correct extension for a Python file is \".py\"."
   ]
  },
  {
   "cell_type": "markdown",
   "id": "16a76604-2ae5-4472-8c6d-9c5f05c3e15c",
   "metadata": {},
   "source": [
    "#### Q5. Is python code compiled or interpreted?\n",
    "Ans. Python is an interpreted language.\n",
    "\n",
    "#### Q6. Name a few blocks of code used define in python language?\n",
    "Ans. In Python, there are several blocks of code used to define different structures, including:\n",
    "\n",
    "- Functions: A block of code that performs a specific task and can be called multiple times in a program. Functions are defined using the \"def\" keyword.\n",
    "\n",
    "- Classes: A blueprint for creating objects that defines a set of attributes and methods. Classes are defined using the \"class\" keyword.\n",
    "\n",
    "- Loops: A block of code that repeats a set of statements until a certain condition is met. There are two types of loops in Python: \"for\" loops and \"while\" loops.\n",
    "\n",
    "- Conditional statements: A block of code that executes one set of statements if a certain condition is met, and another set of statements if the condition is not met. The most common conditional statement in Python is the \"if\" statement.\n",
    "\n",
    "#### Q7. State a character used to give single line comment in python?\n",
    "Ans. \"#\"\n",
    "\n",
    "#### Q8. Mention function which can help us to find the version of python that we are currently working on?\n",
    "Ans.\n"
   ]
  },
  {
   "cell_type": "code",
   "execution_count": 1,
   "id": "2f2213b6-cf5d-4a6c-9133-b8a59159ce60",
   "metadata": {},
   "outputs": [
    {
     "data": {
      "text/plain": [
       "'3.10.8 | packaged by conda-forge | (main, Nov 22 2022, 08:26:04) [GCC 10.4.0]'"
      ]
     },
     "execution_count": 1,
     "metadata": {},
     "output_type": "execute_result"
    }
   ],
   "source": [
    "import sys\n",
    "sys.version"
   ]
  },
  {
   "cell_type": "markdown",
   "id": "10789f13-6ef5-4430-b6aa-510290664653",
   "metadata": {},
   "source": [
    "#### Q9. Python supports the creation of anonymous functions at runtime, using a construct called _____________\n",
    "Ans. lambda\n",
    "\n",
    "#### Q10. what does pip stand for python?\n",
    "Ans. PIP stands for \"Pip Installs Packages\". It is a package management system used to install and manage packages and libraries in Python.\n",
    "\n",
    "#### Q11. Mention a few build-in function in python?\n",
    "Ans.  print(), len(), range(), int(), float(), str(), list(), tuple(), dict(), set(), etc.\n",
    "\n",
    "#### Q12. What is the maximum possible length of an identifier in python?\n",
    "Ans 79 characters\n",
    "\n",
    "#### Q13. what are the benefits of using python?\n",
    "Ans. The benefits of using Python include \n",
    "- its simplicity and ease of use\n",
    "- its support for multiple programming paradigms \n",
    "- its vast libraries and tools\n",
    "- its strong community and support\n",
    "- its ability to handle a wide range of tasks and applications efficiently.\n",
    "\n",
    "#### Q14. How is memory management in python?\n",
    "Ans. Memory management in Python is performed automatically and is based on a private heap space, which is managed by the **Python Interpreter**. The Python Interpreter manages the allocation of memory for all Python objects and data structures, and it uses reference counting as the primary method of memory management.\n",
    "\n",
    "Whenever a reference to that object is created, the reference count is incremented by 1. When an object's reference count drops to 0, it is automatically deleted and its memory is freed.\n",
    "\n",
    "Python also uses a garbage collector to automatically collect and delete objects that are no longer referenced in the code.\n",
    "\n",
    "#### Q15. How to install python on windows and set path variables?\n",
    "Ans. Here are the steps to install Python on windows and set the PATH environment variable:\n",
    "- **Download the Python installer**: Go to the official Python website (https://www.python.org/downloads/), and download the latest version of Python for Windows.\n",
    "- **Run the installer**: Double click on the downloaded Python Installer, and follow instructions to complete the installation process.\n",
    "- Update PATH environment variable: To set the PATH environment variable, follow these steps:\n",
    "    - Open the Start menu and search for \"Environment Variables\"\n",
    "    - Click on \"Edit the system environment variables\"\n",
    "    - In the System Properties window, click on the \"Environment Variables\" button\n",
    "    - Under \"System Variables\", scroll down and find the \"Path\" variable\n",
    "    - Click on the \"Edit\" button\n",
    "    - Click on the \"New\" button and add the path to the Python installation directory (e.g., C:\\Python36\\ or C:\\Python37, depending on your version of Python)\n",
    "    - Click \"OK\" on all windows to save changes.\n",
    "\n",
    "#### Q16. Is indentation required in python?\n",
    "Ans. Yes, indentation is required in Python. Indentation is used to define blocks of code, such as control structures (if/else statements, for/while loops, etc.), functions, and classes. \n",
    "In Python, indentation must be consistent within a block of code, typically using 4 spaces for each level of indentation."
   ]
  },
  {
   "cell_type": "code",
   "execution_count": 3,
   "id": "1640ae6b-c439-420d-b3c1-aae98fa9a831",
   "metadata": {},
   "outputs": [
    {
     "name": "stdout",
     "output_type": "stream",
     "text": [
      "0123456789"
     ]
    }
   ],
   "source": [
    "for i in range(10):\n",
    "    print(i,end=\"\")"
   ]
  },
  {
   "cell_type": "code",
   "execution_count": null,
   "id": "d7d3f14d-fb91-4d53-bf37-6d45b75b7713",
   "metadata": {},
   "outputs": [],
   "source": []
  }
 ],
 "metadata": {
  "kernelspec": {
   "display_name": "Python 3 (ipykernel)",
   "language": "python",
   "name": "python3"
  },
  "language_info": {
   "codemirror_mode": {
    "name": "ipython",
    "version": 3
   },
   "file_extension": ".py",
   "mimetype": "text/x-python",
   "name": "python",
   "nbconvert_exporter": "python",
   "pygments_lexer": "ipython3",
   "version": "3.10.8"
  }
 },
 "nbformat": 4,
 "nbformat_minor": 5
}
