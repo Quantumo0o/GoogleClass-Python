{
 "cells": [
  {
   "cell_type": "markdown",
   "id": "9554480c-a972-42db-b5d2-d5a9e197729a",
   "metadata": {
    "tags": []
   },
   "source": [
    "#### Q1. Which keyword is used to create a function? Create a function to return a list of odd numbers in the range of 1 to 25."
   ]
  },
  {
   "cell_type": "markdown",
   "id": "f346fc36-03c1-4f13-b490-c0b5dfe28343",
   "metadata": {},
   "source": [
    "**Ans**. Python used 'def' keyword to create a function. here is the example of a function to return a list of odd number in the range of 1 to 25"
   ]
  },
  {
   "cell_type": "code",
   "execution_count": 1,
   "id": "6f5b07b6-b929-45d4-b2ae-6135b5acfe34",
   "metadata": {},
   "outputs": [
    {
     "name": "stdout",
     "output_type": "stream",
     "text": [
      "[1, 3, 5, 7, 9, 11, 13, 15, 17, 19, 21, 23, 25]\n"
     ]
    }
   ],
   "source": [
    "def print_odd_number():\n",
    "    l=[]\n",
    "    for i in range(1,26,2):\n",
    "        l.append(i)\n",
    "    return l\n",
    "\n",
    "print(print_odd_number())"
   ]
  },
  {
   "cell_type": "markdown",
   "id": "aa62aa5f-7ee2-43d4-90c3-c983f22a81cc",
   "metadata": {},
   "source": [
    "#### Q 2. Why *args and **kwargs is used in some functions? Create a function each for *args and **kwargs to demonstrate their use."
   ]
  },
  {
   "cell_type": "markdown",
   "id": "8522badf-7134-4f9e-b377-efac28c581c7",
   "metadata": {},
   "source": [
    "**Ans**. *args and **kwargs are special syntax in Python that allow a function to accept a variable number of arguments :-\n",
    "- *args is used to pass a variable number of positional argument to function. it means that the function can accept any number of argument (zero or more) and they will be packed into tuple"
   ]
  },
  {
   "cell_type": "code",
   "execution_count": 2,
   "id": "dc15098a-e285-491a-9d44-abc9d674e7d6",
   "metadata": {},
   "outputs": [
    {
     "name": "stdout",
     "output_type": "stream",
     "text": [
      "15\n"
     ]
    }
   ],
   "source": [
    "def add_numbers(*args):\n",
    "    sum = 0\n",
    "    for num in args:\n",
    "        sum += num\n",
    "    return sum\n",
    "\n",
    "result = add_numbers(1,2, 3, 4, 5)\n",
    "print(result) "
   ]
  },
  {
   "cell_type": "markdown",
   "id": "bbeb2b45-33fc-4450-81be-85dd29e99d28",
   "metadata": {},
   "source": [
    "- **kwargs is used to pass a variable number of keyword argument to function. it means that the function can accept any number of keyword arguments (zero or more) and they will be packed into a dictionary"
   ]
  },
  {
   "cell_type": "code",
   "execution_count": 3,
   "id": "4130c3c2-087a-450c-b343-340ef2168029",
   "metadata": {},
   "outputs": [
    {
     "name": "stdout",
     "output_type": "stream",
     "text": [
      "a = 1\n",
      "b = 2\n",
      "c = 3\n"
     ]
    }
   ],
   "source": [
    "def print_kwargs(**kwargs):\n",
    "    for key in kwargs.keys():\n",
    "        print(f\"{key} = {kwargs[key]}\")\n",
    "\n",
    "print_kwargs(a=1, b=2, c=3)"
   ]
  },
  {
   "cell_type": "markdown",
   "id": "df533acf-5b93-4ee4-9bc1-29c525847023",
   "metadata": {},
   "source": [
    "#### Q 3. What is an iterator in python? Name the method used to initialise the iterator object and the method used for iteration. Use these methods to print the first five elements of the given list [2, 4, 6, 8, 10, 12, 14, 16, 18, 20]."
   ]
  },
  {
   "cell_type": "markdown",
   "id": "6a72a08f-0304-44a1-9fb9-241d1f8f9aa2",
   "metadata": {},
   "source": [
    "**Ans**. An iterator is an object that allow you to iterate over collection of items, such as a list, tuple and string. The iterator provide a way to access the element of the collection one by one, without need to access them all at once.\n",
    "Iterator are used in Python for several reasons :- \n",
    "- Memory efficiency : An iterator load only one data at a time into memory, which can be useful for large dataset that may be not fit into the memory all at once.\n",
    "- Lazy evaluation : Iterator allow for lazy evaluation of elements, which can save time and resources when you need to access few elements of a large dataset.\n",
    "- Customization : You can create your own custom iterators to define your own logic for dataset.\n",
    "\n",
    "Method used to initialise the iterator object and the method used for iteration is :-\n",
    "- iter() method is used to initialize the iterable object over collection of item such as list, tuple string. It return the iterator object.\n",
    "- next() method is used to iterate over an iterator that return next value from the iterator. It is useful when you want to access the one element at a time, or you need to manually control the iteration process."
   ]
  },
  {
   "cell_type": "code",
   "execution_count": 4,
   "id": "0975b7ed-9e01-4a55-b62b-cf61c4f7e8ad",
   "metadata": {},
   "outputs": [
    {
     "name": "stdout",
     "output_type": "stream",
     "text": [
      "2\n",
      "4\n",
      "6\n",
      "8\n",
      "10\n"
     ]
    }
   ],
   "source": [
    "l = [2, 4, 6, 8, 10, 12, 14, 16, 18, 20]\n",
    "iterator = iter(l)\n",
    "\n",
    "for i in range(5):\n",
    "    print(next(iterator))\n"
   ]
  },
  {
   "cell_type": "markdown",
   "id": "1d4fda51-9782-4380-9bfe-66aa75f7b374",
   "metadata": {},
   "source": [
    "#### Q 4. What is a generator function in python? Why yield keyword is used? Give an example of a generator function."
   ]
  },
  {
   "cell_type": "markdown",
   "id": "217b7ad6-9d50-4725-9c67-919c195f21cb",
   "metadata": {},
   "source": [
    "**Ans**. A generator function in python is a special type of function that uses the \"yield\" keyword to return generator object, which produce a sequence of values.\n",
    "\n",
    "**yield** keyword works like return statement, but unlike returning a value and ending the function, it returns a value and temporarily suspends the function execution. When the generator is iterated over, the function resumes execution from where it left of and continue to the next yield to returning the next value in the sequence.\n"
   ]
  },
  {
   "cell_type": "code",
   "execution_count": 5,
   "id": "969cbb8e-df18-43e1-9b23-3e1b94271c53",
   "metadata": {},
   "outputs": [
    {
     "name": "stdout",
     "output_type": "stream",
     "text": [
      "0\n",
      "4\n",
      "8\n",
      "12\n",
      "16\n"
     ]
    }
   ],
   "source": [
    "def ex(start,stop,step):\n",
    "    while start < stop:\n",
    "        yield start\n",
    "        start+=step\n",
    "\n",
    "for i in ex(0,20,4):\n",
    "    print(i)"
   ]
  },
  {
   "cell_type": "code",
   "execution_count": 6,
   "id": "6e001f50-f620-48b0-b15a-d1997e76f91f",
   "metadata": {},
   "outputs": [
    {
     "name": "stdout",
     "output_type": "stream",
     "text": [
      "2.6457513110645907\n",
      "True\n"
     ]
    }
   ],
   "source": [
    "import math\n",
    "\n",
    "def is_prime(n):\n",
    "    print(math.sqrt(n))\n",
    "    if n < 2:\n",
    "        return False\n",
    "    for i in range(2, int(math.sqrt(n)) + 1):\n",
    "        if n % i == 0:\n",
    "            return False\n",
    "    return True\n",
    "print(is_prime(7))"
   ]
  },
  {
   "cell_type": "markdown",
   "id": "5779205e-f4fe-413a-81b1-af9203184586",
   "metadata": {},
   "source": [
    "#### Q 5. Create a generator function for prime numbers less than 1000. Use the next() method to print the first 20 prime numbers."
   ]
  },
  {
   "cell_type": "markdown",
   "id": "8e45f0c8-c0c6-47c6-8ef7-215db66a2172",
   "metadata": {},
   "source": [
    "**Ans**. As we know that *Every prime number can be written in the form of 6n + 1 or 6n – 1 (except the multiples of prime numbers, i.e. 2, 3, 5, 7, 11)*"
   ]
  },
  {
   "cell_type": "code",
   "execution_count": 7,
   "id": "a7284be3-f891-4150-8971-d503c553340d",
   "metadata": {},
   "outputs": [
    {
     "name": "stdout",
     "output_type": "stream",
     "text": [
      "2\n",
      "3\n",
      "5\n",
      "7\n",
      "11\n",
      "13\n",
      "17\n",
      "19\n",
      "23\n",
      "29\n",
      "31\n",
      "37\n",
      "41\n",
      "43\n",
      "47\n",
      "53\n",
      "59\n",
      "61\n",
      "67\n",
      "71\n",
      "73\n",
      "79\n",
      "83\n",
      "89\n",
      "97\n"
     ]
    }
   ],
   "source": [
    "def prime_n():\n",
    "    for i in range(2,1000):\n",
    "        if (i in (2,3,5,7,11))==True:\n",
    "            # yield i\n",
    "            print(i)\n",
    "        if i%2!=0 and i%3!=0 and i%5!=0 and i%7!=0 and i%11!=0:\n",
    "            if (i-1)%6==0 or (i+1)%6==0:\n",
    "                yield i\n",
    "A=prime_n()\n",
    "for i in range(20):\n",
    "    print(next(A))"
   ]
  },
  {
   "cell_type": "code",
   "execution_count": null,
   "id": "753fe4ab-adbd-41f1-8e5c-6cad3e8268d5",
   "metadata": {},
   "outputs": [],
   "source": [
    "\n"
   ]
  }
 ],
 "metadata": {
  "kernelspec": {
   "display_name": "Python 3 (ipykernel)",
   "language": "python",
   "name": "python3"
  },
  "language_info": {
   "codemirror_mode": {
    "name": "ipython",
    "version": 3
   },
   "file_extension": ".py",
   "mimetype": "text/x-python",
   "name": "python",
   "nbconvert_exporter": "python",
   "pygments_lexer": "ipython3",
   "version": "3.10.8"
  }
 },
 "nbformat": 4,
 "nbformat_minor": 5
}
