{
 "cells": [
  {
   "cell_type": "markdown",
   "id": "2e4d33d0-2574-42ab-a855-12813c0b0ae0",
   "metadata": {},
   "source": [
    "### Q1. Create a python program to sort the given list of tuples based on integer value using a lambda function."
   ]
  },
  {
   "cell_type": "code",
   "execution_count": 57,
   "id": "d22fd728-30d8-4787-b8dc-2e9bdcc67eb2",
   "metadata": {},
   "outputs": [
    {
     "name": "stdout",
     "output_type": "stream",
     "text": [
      "[('Jack Kallis', 25534), ('Ricky Ponting', 27483), ('Sachin Tendulkar', 34357), ('Virat Kohli', 24936)]\n"
     ]
    }
   ],
   "source": [
    "l = [('Sachin Tendulkar', 34357), ('Ricky Ponting', 27483), ('Jack Kallis', 25534), ('Virat Kohli', 24936)]\n",
    "\n",
    "#declear lambda finction\n",
    "Fun = lambda x : sorted(x)\n",
    "\n",
    "#calling lambda function and passing list\n",
    "Sorted_tuple=Fun(l)\n",
    "\n",
    "print(Sorted_tuple)"
   ]
  },
  {
   "cell_type": "markdown",
   "id": "b17ccd04-9c43-4c00-b082-5d7d928363b4",
   "metadata": {},
   "source": [
    "#### Q2. Write a Python Program to find the squares of all the numbers in the given list of integers using lambda and map functions."
   ]
  },
  {
   "cell_type": "code",
   "execution_count": 61,
   "id": "a49170ce-f897-4e6c-b43b-c5c07d7f9cd3",
   "metadata": {},
   "outputs": [
    {
     "name": "stdout",
     "output_type": "stream",
     "text": [
      "[1, 4, 9, 16, 25, 36, 49, 64, 81, 100]\n"
     ]
    }
   ],
   "source": [
    "l2=[1, 2, 3, 4, 5, 6, 7, 8, 9, 10]\n",
    "\n",
    "Sq_list=list(map(lambda x : x**2,l2))\n",
    "\n",
    "print(Sq_list)"
   ]
  },
  {
   "cell_type": "markdown",
   "id": "8690c623-7bd1-4ab9-a4f4-71257c6c0a83",
   "metadata": {},
   "source": [
    "#### Q3. Write a python program to convert the given list of integers into a tuple of strings. Use map and lambda functions\n",
    "    Given String: [1, 2, 3, 4, 5, 6, 7, 8, 9, 10]\n",
    "    Expected output: ('1', '2', '3', '4', '5', '6', '7', '8', '9', '10')"
   ]
  },
  {
   "cell_type": "code",
   "execution_count": 4,
   "id": "43ef68c7-f095-43ba-8d10-8221b4d14788",
   "metadata": {},
   "outputs": [
    {
     "name": "stdout",
     "output_type": "stream",
     "text": [
      "('1', '2', '3', '4', '5', '6', '7', '8', '9', '10')\n"
     ]
    }
   ],
   "source": [
    "l3 = [1, 2, 3, 4, 5, 6, 7, 8, 9, 10]\n",
    "\n",
    "# passing l3 elements in lambda function and type casting in string\n",
    "output = tuple(map(lambda x : str(x),l3))\n",
    "\n",
    "print(output)"
   ]
  },
  {
   "cell_type": "markdown",
   "id": "2a1f5d15-8a5d-42d7-a3a5-10789d5abea1",
   "metadata": {},
   "source": [
    "#### Q4. Write a python program using reduce function to compute the product of a list containing numbers from 1 to 25."
   ]
  },
  {
   "cell_type": "code",
   "execution_count": 36,
   "id": "c885c61f-0571-45ae-b4a9-6aa1b122b5ec",
   "metadata": {},
   "outputs": [
    {
     "name": "stdout",
     "output_type": "stream",
     "text": [
      "[1, 2, 3, 4, 5, 6, 7, 8, 9, 10, 11, 12, 13, 14, 15, 16, 17, 18, 19, 20, 21, 22, 23, 24, 25]\n"
     ]
    }
   ],
   "source": [
    "from functools import reduce\n",
    "\n",
    "# create a list containing numbers from 1 to 25 \n",
    "l4=[x for x in range(1,26)]\n",
    "print(l4)"
   ]
  },
  {
   "cell_type": "code",
   "execution_count": 38,
   "id": "fe468ed9-6ba2-4c18-a713-2ded09d7f130",
   "metadata": {},
   "outputs": [
    {
     "data": {
      "text/plain": [
       "15511210043330985984000000"
      ]
     },
     "execution_count": 38,
     "metadata": {},
     "output_type": "execute_result"
    }
   ],
   "source": [
    "Product = reduce(lambda x,y : x*y,l4)\n",
    "Product"
   ]
  },
  {
   "cell_type": "markdown",
   "id": "118a7399-441f-44a6-affe-68a385def170",
   "metadata": {},
   "source": [
    "#### Q5. Write a python program to filter the numbers in a given list that are divisible by 2 and 3 using the filter function.\n",
    "    [2, 3, 6, 9, 27, 60, 90, 120, 55, 46]"
   ]
  },
  {
   "cell_type": "code",
   "execution_count": 39,
   "id": "fc21389d-be32-4bb6-b155-75c29d19d07f",
   "metadata": {},
   "outputs": [
    {
     "name": "stdout",
     "output_type": "stream",
     "text": [
      "[6, 60, 90, 120]\n"
     ]
    }
   ],
   "source": [
    "l5 = [2, 3, 6, 9, 27, 60, 90, 120, 55, 46]\n",
    "\n",
    "# passing the l5 element in lambda function that check the element divisible to 3 and 2\n",
    "output = list(filter(lambda x : x%3==0 and x%2==0,l5))\n",
    "print(output)"
   ]
  },
  {
   "cell_type": "markdown",
   "id": "3c3b35ae-3a45-415f-acee-0091f895a0ec",
   "metadata": {},
   "source": [
    "#### Q6. Write a python program to find palindromes in the given list of strings using lambda and filter function.\n",
    "    ['python', 'php', 'aba', 'radar', 'level']"
   ]
  },
  {
   "cell_type": "code",
   "execution_count": 40,
   "id": "da9442d6-7b41-4fe2-a611-bee6c47d680f",
   "metadata": {},
   "outputs": [
    {
     "name": "stdout",
     "output_type": "stream",
     "text": [
      "palindromes in the list is : ['php', 'aba', 'radar', 'level']\n"
     ]
    }
   ],
   "source": [
    "l6 = ['python', 'php', 'aba', 'radar', 'level']\n",
    "\n",
    "# passing the l6 element to lambda function then use extended slice with -1 to check palindromes \n",
    "output = list(filter(lambda x : x==x[::-1],l6))\n",
    "print(\"palindromes in the list is :\",output)"
   ]
  },
  {
   "cell_type": "code",
   "execution_count": null,
   "id": "8ff9da77-a958-471e-a6ab-b2bd32ddd7ca",
   "metadata": {},
   "outputs": [],
   "source": []
  }
 ],
 "metadata": {
  "kernelspec": {
   "display_name": "Python 3 (ipykernel)",
   "language": "python",
   "name": "python3"
  },
  "language_info": {
   "codemirror_mode": {
    "name": "ipython",
    "version": 3
   },
   "file_extension": ".py",
   "mimetype": "text/x-python",
   "name": "python",
   "nbconvert_exporter": "python",
   "pygments_lexer": "ipython3",
   "version": "3.10.8"
  }
 },
 "nbformat": 4,
 "nbformat_minor": 5
}
