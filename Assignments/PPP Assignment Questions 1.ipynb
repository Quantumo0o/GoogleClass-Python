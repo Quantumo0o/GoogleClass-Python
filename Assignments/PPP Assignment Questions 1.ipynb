{
 "cells": [
  {
   "cell_type": "markdown",
   "id": "51c39a5e-f086-43be-8186-bfa9865eb983",
   "metadata": {},
   "source": [
    "**Q1.** Given an array of integers nums and an integer target, return indices of the two numbers such that they add up to target.\n",
    "\n",
    "You may assume that each input would have exactly one solution, and you may not use the same element twice.\n",
    "\n",
    "You can return the answer in any order.\n",
    "\n",
    "**Example:**\n",
    "Input: nums = [2,7,11,15], target = 9\n",
    "Output0 [0,1]\n",
    "\n",
    "**Explanation:** Because nums[0] + nums[1] == 9, we return [0, 1]   \n",
    "**Ans :**\n"
   ]
  },
  {
   "cell_type": "code",
   "execution_count": 49,
   "id": "3d51d18c-0942-4452-a19c-3aceb2d1aae1",
   "metadata": {},
   "outputs": [
    {
     "data": {
      "text/plain": [
       "[2, 3]"
      ]
     },
     "execution_count": 49,
     "metadata": {},
     "output_type": "execute_result"
    }
   ],
   "source": [
    "def two_sum(nums, target):\n",
    "    for i, num in enumerate(nums):\n",
    "        complement = target - num\n",
    "        if complement in nums:\n",
    "            return [i,nums.index(complement)]\n",
    "    return 'not possible answer answer'\n",
    "    \n",
    "nums = [11,15,2,7]\n",
    "target = 9\n",
    "two_sum(nums,target)"
   ]
  },
  {
   "cell_type": "code",
   "execution_count": null,
   "id": "037bdca7-187d-485b-83e3-dc7a27477b56",
   "metadata": {},
   "outputs": [],
   "source": []
  },
  {
   "cell_type": "code",
   "execution_count": 46,
   "id": "c78d0f71-15da-4efd-b84a-ed5d19cf7b3b",
   "metadata": {},
   "outputs": [
    {
     "name": "stdout",
     "output_type": "stream",
     "text": [
      "2 nums = [2, 2]\n"
     ]
    }
   ],
   "source": [
    "def remove_element(nums, val):\n",
    "    i = 0 \n",
    "    for j in range(len(nums)):\n",
    "        if nums[j] != val:\n",
    "            nums[i] = nums[j]\n",
    "            i += 1\n",
    "    nums = nums[:i]\n",
    "    return print(i,'nums =', nums)\n",
    "\n",
    "nums = [3,2,2,3]\n",
    "val = 3\n",
    "\n",
    "remove_element(nums,val)"
   ]
  },
  {
   "cell_type": "markdown",
   "id": "53236456-ca26-462f-8b93-18a2ae7ea71d",
   "metadata": {},
   "source": [
    "**Q3.** Given a sorted array of distinct integers and a target value, return the index if the target is found. If not, return the index where it would be if it were inserted in order.\n",
    "\n",
    "You must write an algorithm with O(log n) runtime complexity.\n",
    "\n",
    "**Example 1:**\n",
    "Input: nums = [1,3,5,6], target = 5\n",
    "\n",
    "Output: 2\n",
    "\n",
    "**Ans :**"
   ]
  },
  {
   "cell_type": "code",
   "execution_count": 18,
   "id": "2faed691-be8b-4aeb-ab08-607e6935a3a9",
   "metadata": {},
   "outputs": [
    {
     "data": {
      "text/plain": [
       "4"
      ]
     },
     "execution_count": 18,
     "metadata": {},
     "output_type": "execute_result"
    }
   ],
   "source": [
    "def myfun(nums,target):\n",
    "    if target in nums:\n",
    "        return nums.index(target)\n",
    "    else:\n",
    "        for x in nums:\n",
    "            if target < x:\n",
    "                return nums.index(x)\n",
    "                \n",
    "    \n",
    "nums = [1,3,5,8,13]\n",
    "target = 9\n",
    "myfun(nums,target)"
   ]
  },
  {
   "cell_type": "markdown",
   "id": "3385e6d4-d861-417e-b9cb-03ddf8c59ac7",
   "metadata": {},
   "source": [
    "**Q4.** You are given a large integer represented as an integer array digits, where each digits[i] is the ith digit of the integer. The digits are ordered from most significant to least significant in left-to-right order. The large integer does not contain any leading 0's.\n",
    "\n",
    "Increment the large integer by one and return the resulting array of digits.\n",
    "\n",
    "**Example 1:**\n",
    "Input: digits = [1,2,3]\n",
    "Output: [1,2,4]\n",
    "\n",
    "**Explanation:** The array represents the integer 123.\n",
    "\n",
    "Incrementing by one gives 123 + 1 = 124.\n",
    "Thus, the result should be [1,2,4].   \n",
    "**Ans :**\n"
   ]
  },
  {
   "cell_type": "code",
   "execution_count": 43,
   "id": "ddcf3445-52a7-4d8f-b2f7-6ebd8fbc5fb0",
   "metadata": {},
   "outputs": [
    {
     "data": {
      "text/plain": [
       "['1', '2', '4', '0']"
      ]
     },
     "execution_count": 43,
     "metadata": {},
     "output_type": "execute_result"
    }
   ],
   "source": [
    "def plus_one(digits):\n",
    "    return list(str(int(''.join(str(x) for x in digits))+1))\n",
    "\n",
    "digits = [1,2,3,9]\n",
    "plus_one(digits)"
   ]
  },
  {
   "cell_type": "markdown",
   "id": "1a05a6d9-ce6d-4e91-acd5-aa8a67520b2a",
   "metadata": {},
   "source": [
    "\n",
    "**Q5.** You are given two integer arrays nums1 and nums2, sorted in non-decreasing order, and two integers m and n, representing the number of elements in nums1 and nums2 respectively.\n",
    "\n",
    "Merge nums1 and nums2 into a single array sorted in non-decreasing order.\n",
    "\n",
    "The final sorted array should not be returned by the function, but instead be stored inside the array nums1. To accommodate this, nums1 has a length of m + n, where the first m elements denote the elements that should be merged, and the last n elements are set to 0 and should be ignored. nums2 has a length of n.\n",
    "\n",
    "**Example 1:**\n",
    "Input: nums1 = [1,2,3,0,0,0], m = 3, nums2 = [2,5,6], n = 3\n",
    "Output: [1,2,2,3,5,6]\n",
    "\n",
    "**Explanation:** The arrays we are merging are [1,2,3] and [2,5,6].\n",
    "The result of the merge is [1,2,2,3,5,6] with the underlined elements coming from nums1.   \n",
    "**Ans :**\n"
   ]
  },
  {
   "cell_type": "code",
   "execution_count": 118,
   "id": "4405bd10-9842-4310-bc82-4d5b9abc187d",
   "metadata": {},
   "outputs": [
    {
     "name": "stdout",
     "output_type": "stream",
     "text": [
      "[1, 2, 2, 3, 5, 6]\n"
     ]
    }
   ],
   "source": [
    "def two_arrays(nums1,m,nums2,n):\n",
    "    temp=sorted(nums1+nums2)\n",
    "    nums1[:m+n]=[x for x in temp if x!=0]\n",
    "    \n",
    "\n",
    "\n",
    "nums1 = [1,2,3,0,0,0]\n",
    "m = 3\n",
    "nums2 = [2,5,6]\n",
    "n = 3\n",
    "\n",
    "two_arrays(nums1,m,nums2,n)\n",
    "\n",
    "print(nums1)"
   ]
  },
  {
   "cell_type": "markdown",
   "id": "67c379d9-cba8-4f7d-8fb1-75b54aade431",
   "metadata": {},
   "source": [
    "**Q6.** Given an integer array nums, return true if any value appears at least twice in the array, and return false if every element is distinct.\n",
    "\n",
    "**Example 1:**\n",
    "Input: nums = [1,2,3,1]\n",
    "\n",
    "Output: true   \n",
    "**Ans :**"
   ]
  },
  {
   "cell_type": "code",
   "execution_count": 151,
   "id": "f7be9963-f048-429e-8049-681eabf6070d",
   "metadata": {},
   "outputs": [
    {
     "data": {
      "text/plain": [
       "True"
      ]
     },
     "execution_count": 151,
     "metadata": {},
     "output_type": "execute_result"
    }
   ],
   "source": [
    "def twice(nums):\n",
    "    for i in range(len(nums)):\n",
    "        if nums[i] in nums[i+1:]:      \n",
    "            return True\n",
    "    return False\n",
    "\n",
    "nums = [1,2,3,4,5,6,7,4,8,9]\n",
    "\n",
    "twice(nums)"
   ]
  },
  {
   "cell_type": "markdown",
   "id": "85ae8a49-0c35-42d0-bd61-fea5b3ff45cf",
   "metadata": {},
   "source": [
    "**Q7.** Given an integer array nums, move all 0's to the end of it while maintaining the relative order of the nonzero elements.\n",
    "\n",
    "Note that you must do this in-place without making a copy of the array.\n",
    "\n",
    "**Example 1:**\n",
    "Input: nums = [0,1,0,3,12]\n",
    "Output: [1,3,12,0,0]\n"
   ]
  },
  {
   "cell_type": "code",
   "execution_count": 160,
   "id": "75c83459-8744-415e-9f74-d6545bf370ac",
   "metadata": {},
   "outputs": [
    {
     "data": {
      "text/plain": [
       "[1, 3, 12, 99, 45, 0, 0, 0, 0]"
      ]
     },
     "execution_count": 160,
     "metadata": {},
     "output_type": "execute_result"
    }
   ],
   "source": [
    "def move_zero(nums):\n",
    "    nums = [y for y in nums if y!=0] + [x for x in nums if x == 0]\n",
    "    return nums\n",
    "  \n",
    "nums= [0,1,0,3,12,0,99,0,45]\n",
    "\n",
    "move_zero(nums)"
   ]
  },
  {
   "cell_type": "markdown",
   "id": "7f6468e3-b4e3-4895-b0ff-c52dcafbf085",
   "metadata": {},
   "source": [
    "**Q8.** You have a set of integers s, which originally contains all the numbers from 1 to n. Unfortunately, due to some error, one of the numbers in s got duplicated to another number in the set, which results in repetition of one number and loss of another number.\n",
    "\n",
    "You are given an integer array nums representing the data status of this set after the error.\n",
    "\n",
    "Find the number that occurs twice and the number that is missing and return them in the form of an array.\n",
    "\n",
    "**Example 1:**\n",
    "Input: nums = [1,2,2,4]\n",
    "Output: [2,3]   \n",
    "**Ans :**"
   ]
  },
  {
   "cell_type": "code",
   "execution_count": 171,
   "id": "1bb451b8-5b25-49cc-a24b-a3aa40d5cbac",
   "metadata": {},
   "outputs": [
    {
     "data": {
      "text/plain": [
       "[7, 8]"
      ]
     },
     "execution_count": 171,
     "metadata": {},
     "output_type": "execute_result"
    }
   ],
   "source": [
    "def find_error(nums):\n",
    "    n = len(nums)\n",
    "    duplicate = 0\n",
    "    missing = 0\n",
    "\n",
    "    for i in range(n - 1):\n",
    "        if nums[i] in nums[i+1:]:\n",
    "            duplicate = nums[i]\n",
    "\n",
    "    for i in range(1, n + 1):\n",
    "        if i not in nums:\n",
    "            missing = i\n",
    "            break\n",
    "\n",
    "    return [duplicate, missing]\n",
    "\n",
    "nums = [1,2,3,4,5,6,7,7,9,10]\n",
    "\n",
    "find_error(nums)"
   ]
  },
  {
   "cell_type": "code",
   "execution_count": null,
   "id": "ec0534e2-156d-4a52-a2d5-efee64f5099b",
   "metadata": {},
   "outputs": [],
   "source": []
  }
 ],
 "metadata": {
  "kernelspec": {
   "display_name": "Python 3 (ipykernel)",
   "language": "python",
   "name": "python3"
  },
  "language_info": {
   "codemirror_mode": {
    "name": "ipython",
    "version": 3
   },
   "file_extension": ".py",
   "mimetype": "text/x-python",
   "name": "python",
   "nbconvert_exporter": "python",
   "pygments_lexer": "ipython3",
   "version": "3.10.8"
  }
 },
 "nbformat": 4,
 "nbformat_minor": 5
}
