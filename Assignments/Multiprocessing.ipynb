{
 "cells": [
  {
   "cell_type": "markdown",
   "id": "aad84bac-8ffd-4482-9fde-6b798465a99c",
   "metadata": {},
   "source": [
    "#### Q1. What is multiprocessing in python? Why is it useful?\n",
    "##### Ans\n",
    "Multiprocessing is a Python module that enables the creation of processes that can run in parallel on a computer's CPU. By allowing multiple processes to run concurrently, multiprocessing can improve the performance of CPU-bound tasks in Python programs. Multiprocessing is useful for speeding up calculations, processing large amounts of data, and performing other computationally intensive tasks."
   ]
  },
  {
   "cell_type": "markdown",
   "id": "1571b9b3-9ac0-4eee-9b75-67959242b056",
   "metadata": {},
   "source": [
    "#### Q2. What are the differences between multiprocessing and multithreading?\n",
    "##### Ans.\n",
    "Multiprocessing and multithreading are both ways to achieve parallelism in Python, but they differ in several ways:\n",
    "\n",
    "1. Memory usage: In multiprocessing, each process has its own memory space, while in multithreading, all threads share the same memory space.\n",
    "\n",
    "2. Communication: In multiprocessing, processes communicate via IPC mechanisms such as pipes and queues, while in multithreading, threads communicate via shared memory and locks.\n",
    "\n",
    "3. Overhead: Multiprocessing has a higher overhead due to process creation, while multithreading has a lower overhead due to thread creation.\n",
    "\n",
    "4. Scalability: Multiprocessing can offer better scalability on multi-core CPUs, while multithreading has limited scalability on multi-core CPUs.\n",
    "\n",
    "5. Resource use: Processes use more system resources (CPU, memory) than threads.\n",
    "\n",
    "6. Error handling: Processes are isolated, so one process crashing does not affect others, while threads can affect each other if not properly synchronized.\n",
    "\n",
    "Overall, multiprocessing is better suited for CPU-bound tasks where parallelism is needed, while multithreading is better suited for I/O-bound tasks where parallelism is needed."
   ]
  },
  {
   "cell_type": "markdown",
   "id": "50054570-dbd8-476b-b5ed-0ecd8307540f",
   "metadata": {},
   "source": [
    "#### Q3. Write a python code to create a process using the multiprocessing module.\n",
    "##### Ans.\n"
   ]
  },
  {
   "cell_type": "code",
   "execution_count": 1,
   "id": "81fff0cb-5bd6-4612-af3d-f98505314978",
   "metadata": {},
   "outputs": [
    {
     "name": "stdout",
     "output_type": "stream",
     "text": [
      "Hello from a child process!\n",
      "The child process has completed.\n"
     ]
    }
   ],
   "source": [
    "import multiprocessing\n",
    "\n",
    "def my_function():\n",
    "    print(\"Hello from a child process!\")\n",
    "\n",
    "if __name__ == '__main__':\n",
    "    p = multiprocessing.Process(target=my_function)\n",
    "    p.start()\n",
    "    p.join()\n",
    "    print(\"The child process has completed.\")\n"
   ]
  },
  {
   "cell_type": "markdown",
   "id": "e9d4e039-4456-41b6-951d-645d067af494",
   "metadata": {},
   "source": [
    "#### Q4. What is a multiprocessing pool in python? Why is it used?\n",
    "\n",
    "##### Ans. \n",
    "In Python, a multiprocessing pool is a way to execute a function or callable object using a pool of worker processes. The pool manages a set of worker processes, and tasks are assigned to the available workers as they become available.\n",
    "\n",
    "The multiprocessing module provides the Pool class that can be used to create a pool of worker processes. The Pool class has a method called map that allows you to apply a function to a sequence of arguments in parallel.\n"
   ]
  },
  {
   "cell_type": "markdown",
   "id": "5ff3c1fe-43db-4aec-b86f-a47d5ae4f6bd",
   "metadata": {},
   "source": [
    "#### Q5. How can we create a pool of worker processes in python using the multiprocessing module?\n",
    "##### Ans.\n",
    "In Python, you can create a pool of worker processes using the multiprocessing.Pool class. Here's an example of how to create a pool of worker processes:"
   ]
  },
  {
   "cell_type": "code",
   "execution_count": 4,
   "id": "e0bf31af-c2d7-43d8-ad54-909a839824f9",
   "metadata": {},
   "outputs": [
    {
     "name": "stdout",
     "output_type": "stream",
     "text": [
      "[0, 1, 4, 9, 16, 25, 36, 49, 64, 81]\n"
     ]
    }
   ],
   "source": [
    "import multiprocessing\n",
    "\n",
    "def my_function(x):\n",
    "    # Do some work here\n",
    "    return x*x\n",
    "\n",
    "if __name__ == '__main__':\n",
    "    # Create a pool of 4 worker processes\n",
    "    with multiprocessing.Pool(processes=4) as pool:\n",
    "        # Apply the function to a sequence of inputs in parallel\n",
    "        results = pool.map(my_function, range(10))\n",
    "        print(results)\n"
   ]
  },
  {
   "cell_type": "markdown",
   "id": "53f92a38-33d2-4a38-99b8-a71c1e888b19",
   "metadata": {},
   "source": [
    "#### Q6. Write a python program to create 4 processes, each process should print a different number using the multiprocessing module in python.\n",
    "##### Ans."
   ]
  },
  {
   "cell_type": "code",
   "execution_count": 5,
   "id": "f4e6fd11-386d-4b5c-b768-a4c201f336c8",
   "metadata": {},
   "outputs": [
    {
     "name": "stdout",
     "output_type": "stream",
     "text": [
      "Process 1: 1\n",
      "Process 2: 2\n",
      "Process 3: 3\n",
      "Process 4: 4\n"
     ]
    }
   ],
   "source": [
    "import multiprocessing\n",
    "\n",
    "def print_number(num):\n",
    "    print(f\"Process {num}: {num}\")\n",
    "\n",
    "if __name__ == '__main__':\n",
    "    # Create a list of numbers\n",
    "    numbers = [1, 2, 3, 4]\n",
    "    \n",
    "    # Create a process for each number in the list\n",
    "    processes = [multiprocessing.Process(target=print_number, args=(num,)) for num in numbers]\n",
    "    \n",
    "    # Start each process\n",
    "    for process in processes:\n",
    "        process.start()\n",
    "    \n",
    "    # Wait for each process to finish\n",
    "    for process in processes:\n",
    "        process.join()\n"
   ]
  },
  {
   "cell_type": "code",
   "execution_count": null,
   "id": "37165d3c-ef18-4988-8226-071ca3a2b417",
   "metadata": {},
   "outputs": [],
   "source": []
  }
 ],
 "metadata": {
  "kernelspec": {
   "display_name": "Python 3 (ipykernel)",
   "language": "python",
   "name": "python3"
  },
  "language_info": {
   "codemirror_mode": {
    "name": "ipython",
    "version": 3
   },
   "file_extension": ".py",
   "mimetype": "text/x-python",
   "name": "python",
   "nbconvert_exporter": "python",
   "pygments_lexer": "ipython3",
   "version": "3.10.8"
  }
 },
 "nbformat": 4,
 "nbformat_minor": 5
}
