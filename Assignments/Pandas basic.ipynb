{
 "cells": [
  {
   "cell_type": "markdown",
   "id": "d17ffcfb-f04a-4424-a01a-05a856b6f1d2",
   "metadata": {},
   "source": [
    "#### Q1. Create a Pandas Series that contains the following data: 4, 8, 15, 16, 23, and 42. Then, print the series.\n",
    "##### Ans."
   ]
  },
  {
   "cell_type": "code",
   "execution_count": 8,
   "id": "489d03fa-9c38-4be3-bfc2-dbb6a257efe7",
   "metadata": {},
   "outputs": [
    {
     "name": "stdout",
     "output_type": "stream",
     "text": [
      "0     4\n",
      "1     8\n",
      "2    15\n",
      "3    16\n",
      "4    23\n",
      "5    42\n",
      "dtype: int64\n"
     ]
    }
   ],
   "source": [
    "import pandas as pd\n",
    "\n",
    "data = [4,8,15,16,23,42]\n",
    "\n",
    "A = pd.Series(data)\n",
    "print(A)"
   ]
  },
  {
   "cell_type": "markdown",
   "id": "65f383d8-3715-434f-963f-ced3770855f0",
   "metadata": {},
   "source": [
    "#### Q2. Create a variable of list type containing 10 elements in it, and apply pandas.Series function on the variable print it.\n",
    "##### Ans."
   ]
  },
  {
   "cell_type": "code",
   "execution_count": 9,
   "id": "9f288ed1-7f8f-49b9-911b-731f287be836",
   "metadata": {},
   "outputs": [
    {
     "name": "stdout",
     "output_type": "stream",
     "text": [
      "0     1\n",
      "1     2\n",
      "2     3\n",
      "3     4\n",
      "4     5\n",
      "5     6\n",
      "6     7\n",
      "7     8\n",
      "8     9\n",
      "9    10\n",
      "dtype: int64\n"
     ]
    }
   ],
   "source": [
    "import pandas as pd\n",
    "\n",
    "my_list = [1, 2, 3, 4, 5, 6, 7, 8, 9, 10]\n",
    "series = pd.Series(my_list)\n",
    "print(series)"
   ]
  },
  {
   "cell_type": "markdown",
   "id": "932f1c4a-725d-4e38-b633-374b724b47ae",
   "metadata": {},
   "source": [
    "#### Q3. Create a Pandas DataFrame that contains the following data:\n",
    "\n",
    "|Name   | Age | Gender |   \n",
    "|Alice  | 25  | Female |  \n",
    "|Bob    | 30  | Male   |   \n",
    "|Claire | 27  |Female  |\n",
    "\n",
    "#### Then, print the DataFrame.\n",
    "\n",
    "##### Ans."
   ]
  },
  {
   "cell_type": "code",
   "execution_count": 10,
   "id": "0ed9fac6-39a5-4f50-86e6-fa24b9f4a3be",
   "metadata": {},
   "outputs": [
    {
     "name": "stdout",
     "output_type": "stream",
     "text": [
      "     Name  Age  Gender\n",
      "0   Alice   25  Female\n",
      "1     Bob   30    Male\n",
      "2  Claire   27  Female\n"
     ]
    }
   ],
   "source": [
    "import pandas as pd\n",
    "\n",
    "data = {\n",
    "    'Name': ['Alice', 'Bob', 'Claire'],\n",
    "    'Age': [25, 30, 27],\n",
    "    'Gender': ['Female', 'Male', 'Female']\n",
    "}\n",
    "\n",
    "df = pd.DataFrame(data)\n",
    "print(df)"
   ]
  },
  {
   "cell_type": "markdown",
   "id": "b64734a9-e02f-424b-bfcc-796e4fed1b86",
   "metadata": {},
   "source": [
    "### Q4. What is ‘DataFrame’ in pandas and how is it different from pandas.series? Explain with an example.\n",
    "##### Ans. \n",
    "In Pandas, a DataFrame is a two-dimensional labeled data structure that represents a tabular, spreadsheet-like data object. It consists of rows and columns, where each column can have a different data type (e.g., numeric, string, boolean). Think of it as a table where each column represents a variable and each row represents an observation or entry.   \n",
    "On the other hand, a Pandas Series is a one-dimensional labeled array capable of holding any data type. It can be seen as a single column of a DataFrame or a single variable. Series can be created from various data structures like lists, arrays, or dictionaries.   \n",
    "Here's an example to illustrate the difference between a DataFrame and a Series:"
   ]
  },
  {
   "cell_type": "code",
   "execution_count": 11,
   "id": "548624f7-7454-4454-bce1-8d72cff07cd9",
   "metadata": {},
   "outputs": [
    {
     "name": "stdout",
     "output_type": "stream",
     "text": [
      "DataFrame:\n",
      "     Name  Age  Gender\n",
      "0   Alice   25  Female\n",
      "1     Bob   30    Male\n",
      "2  Claire   27  Female\n",
      "\n",
      "Series:\n",
      "0    25\n",
      "1    30\n",
      "2    27\n",
      "dtype: int64\n"
     ]
    }
   ],
   "source": [
    "import pandas as pd\n",
    "\n",
    "# Create a DataFrame\n",
    "data = {\n",
    "    'Name': ['Alice', 'Bob', 'Claire'],\n",
    "    'Age': [25, 30, 27],\n",
    "    'Gender': ['Female', 'Male', 'Female']\n",
    "}\n",
    "df = pd.DataFrame(data)\n",
    "\n",
    "# Create a Series\n",
    "ages = pd.Series([25, 30, 27])\n",
    "\n",
    "print(\"DataFrame:\")\n",
    "print(df)\n",
    "print(\"\\nSeries:\")\n",
    "print(ages)\n"
   ]
  },
  {
   "cell_type": "markdown",
   "id": "acc07541-e598-4889-88ee-3968637c1df5",
   "metadata": {},
   "source": [
    "### Q5. What are some common functions you can use to manipulate data in a Pandas DataFrame? Can you give an example of when you might use one of these functions?\n",
    "##### Ans."
   ]
  },
  {
   "cell_type": "markdown",
   "id": "8ecae275-8501-4dc7-9da9-80b54dd264c7",
   "metadata": {},
   "source": [
    "Pandas provides a wide range of functions to manipulate data in a DataFrame. Here are some commonly used functions along with an example scenario where you might use them:\n",
    "\n",
    "1. `head()` and `tail()`: These functions allow you to view the first or last few rows of a DataFrame, respectively. They are useful for quickly inspecting the data.\n",
    "\n",
    "   Example:\n",
    "   ```python\n",
    "   df.head()  # View the first 5 rows of the DataFrame\n",
    "   df.tail(10)  # View the last 10 rows of the DataFrame\n",
    "   ```\n",
    "\n",
    "2. `info()`: This function provides a summary of the DataFrame, including the column names, data types, and non-null count. It is helpful for understanding the structure of the data.\n",
    "\n",
    "   Example:\n",
    "   ```python\n",
    "   df.info()  # Display summary information about the DataFrame\n",
    "   ```\n",
    "\n",
    "3. `describe()`: This function generates descriptive statistics for numerical columns in the DataFrame, such as count, mean, standard deviation, minimum, and maximum values. It gives a quick overview of the distribution of the data.\n",
    "\n",
    "   Example:\n",
    "   ```python\n",
    "   df.describe()  # Compute descriptive statistics of the DataFrame\n",
    "   ```\n",
    "\n",
    "4. `sort_values()`: This function allows you to sort the DataFrame based on one or more columns. It is useful for arranging the data in a specific order.\n",
    "\n",
    "   Example:\n",
    "   ```python\n",
    "   sorted_df = df.sort_values('Age')  # Sort the DataFrame by the 'Age' column\n",
    "   ```\n",
    "\n",
    "5. `groupby()`: This function enables grouping the data based on one or more columns and applying aggregate functions to the grouped data. It is useful for performing group-wise calculations and analysis.\n",
    "\n",
    "   Example:\n",
    "   ```python\n",
    "   grouped_df = df.groupby('Gender')['Age'].mean()  # Compute the average age by gender\n",
    "   ```\n",
    "\n",
    "6. `drop()`: This function allows you to remove rows or columns from the DataFrame. It is handy when you want to eliminate irrelevant or unnecessary data.\n",
    "\n",
    "   Example:\n",
    "   ```python\n",
    "   cleaned_df = df.drop(['Column1', 'Column2'], axis=1)  # Drop specified columns from the DataFrame\n",
    "   ```\n",
    "\n",
    "These are just a few examples of the many functions available in Pandas for data manipulation. The choice of function depends on the specific data manipulation task you want to perform, such as data exploration, cleaning, filtering, aggregation, or sorting."
   ]
  },
  {
   "cell_type": "markdown",
   "id": "5b3671fd-0d3e-4c1e-9e57-125054c30204",
   "metadata": {},
   "source": [
    "### Q6. Which of the following is mutable in nature Series, DataFrame, Panel?\n",
    "##### Ans."
   ]
  },
  {
   "cell_type": "markdown",
   "id": "fd20f5ca-91ff-4337-9e03-9b281adfd0ed",
   "metadata": {},
   "source": [
    "In Pandas, both Series and DataFrame are mutable in nature, while Panel is immutable.\n",
    "\n",
    "1. Series: A Pandas Series is mutable, meaning you can modify its elements, add or remove values dynamically. You can change the values of specific elements by assigning new values to them or use various methods to modify the Series in-place.\n",
    "\n",
    "Example:\n",
    "```python\n",
    "import pandas as pd\n",
    "\n",
    "series = pd.Series([1, 2, 3, 4, 5])\n",
    "series[2] = 10  # Modify the value at index 2\n",
    "series[3] = series[3] * 2  # Perform a computation on the value at index 3\n",
    "```\n",
    "\n",
    "2. DataFrame: Similarly, a Pandas DataFrame is mutable. You can modify its columns, add or remove rows or columns, change values, and perform various data manipulation operations on the DataFrame.\n",
    "\n",
    "Example:\n",
    "```python\n",
    "import pandas as pd\n",
    "\n",
    "data = {'Name': ['Alice', 'Bob', 'Claire'], 'Age': [25, 30, 27]}\n",
    "df = pd.DataFrame(data)\n",
    "df['Age'] = df['Age'] + 1  # Increment the 'Age' column by 1\n",
    "df.loc[2, 'Age'] = 28  # Change the value in the 'Age' column for the row with index 2\n",
    "```\n",
    "\n",
    "3. Panel: On the other hand, a Panel in Pandas is immutable, meaning its contents cannot be modified once created. Panels were used in older versions of Pandas to represent three-dimensional data, but they have been deprecated in favor of using multi-dimensional arrays or DataFrames.\n",
    "\n",
    "While Series and DataFrame can be modified directly, it is important to note that modifying a Pandas object in-place can have implications on the original data. Therefore, it's recommended to make a copy of the object if you need to preserve the original data."
   ]
  },
  {
   "cell_type": "markdown",
   "id": "b0771ebe-2817-43d1-b74f-5f14675f60d3",
   "metadata": {},
   "source": [
    "#### Q7. Create a DataFrame using multiple Series. Explain with an example.\n",
    "##### Ans."
   ]
  },
  {
   "cell_type": "markdown",
   "id": "4041cc17-cdd8-47b6-b329-5b989077c8b2",
   "metadata": {},
   "source": [
    "To create a DataFrame using multiple Series, you can combine the series together as columns using the `pd.concat()` function or by directly passing them as a dictionary to the `pd.DataFrame()` function. Here's an example:\n",
    "\n",
    "```python\n",
    "import pandas as pd\n",
    "\n",
    "# Create Series\n",
    "name_series = pd.Series(['Alice', 'Bob', 'Claire'])\n",
    "age_series = pd.Series([25, 30, 27])\n",
    "gender_series = pd.Series(['Female', 'Male', 'Female'])\n",
    "\n",
    "# Create DataFrame using pd.concat()\n",
    "df_concat = pd.concat([name_series, age_series, gender_series], axis=1)\n",
    "df_concat.columns = ['Name', 'Age', 'Gender']\n",
    "print(\"DataFrame using pd.concat():\")\n",
    "print(df_concat)\n",
    "\n",
    "# Create DataFrame using pd.DataFrame()\n",
    "data = {\n",
    "    'Name': name_series,\n",
    "    'Age': age_series,\n",
    "    'Gender': gender_series\n",
    "}\n",
    "df_dict = pd.DataFrame(data)\n",
    "print(\"\\nDataFrame using pd.DataFrame():\")\n",
    "print(df_dict)\n",
    "```\n",
    "\n",
    "Output:\n",
    "```\n",
    "DataFrame using pd.concat():\n",
    "    Name  Age  Gender\n",
    "0  Alice   25  Female\n",
    "1    Bob   30    Male\n",
    "2  Claire   27  Female\n",
    "\n",
    "DataFrame using pd.DataFrame():\n",
    "    Name  Age  Gender\n",
    "0  Alice   25  Female\n",
    "1    Bob   30    Male\n",
    "2  Claire   27  Female\n",
    "```\n",
    "\n",
    "when creating a DataFrame using multiple series, it's important to ensure that the series have the same length and are aligned properly to avoid any unexpected data alignment issues."
   ]
  },
  {
   "cell_type": "code",
   "execution_count": null,
   "id": "5ca1a405-452c-4882-abd2-e4a79f592d48",
   "metadata": {},
   "outputs": [],
   "source": []
  }
 ],
 "metadata": {
  "kernelspec": {
   "display_name": "Python 3 (ipykernel)",
   "language": "python",
   "name": "python3"
  },
  "language_info": {
   "codemirror_mode": {
    "name": "ipython",
    "version": 3
   },
   "file_extension": ".py",
   "mimetype": "text/x-python",
   "name": "python",
   "nbconvert_exporter": "python",
   "pygments_lexer": "ipython3",
   "version": "3.10.8"
  }
 },
 "nbformat": 4,
 "nbformat_minor": 5
}
