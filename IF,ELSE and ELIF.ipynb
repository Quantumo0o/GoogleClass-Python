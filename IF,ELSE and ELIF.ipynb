{
 "cells": [
  {
   "cell_type": "code",
   "execution_count": null,
   "id": "c57fc2d8-aab5-4f2e-9e55-a40582a63dbb",
   "metadata": {},
   "outputs": [
    {
     "name": "stdout",
     "output_type": "stream",
     "text": [
      "Hello world\n"
     ]
    }
   ],
   "source": [
    "print(\"Hello world\")"
   ]
  },
  {
   "cell_type": "markdown",
   "id": "0ec082db-79c1-40b5-b2f7-2a580d93f46f",
   "metadata": {},
   "source": [
    "# Print in Python"
   ]
  },
  {
   "cell_type": "markdown",
   "id": "a6fe9302-f5a1-4257-976f-4bec021c7c16",
   "metadata": {},
   "source": [
    "## Normal print"
   ]
  },
  {
   "cell_type": "code",
   "execution_count": null,
   "id": "97ffd5db-0236-4aab-bb38-a031cff4b5a0",
   "metadata": {},
   "outputs": [
    {
     "name": "stdout",
     "output_type": "stream",
     "text": [
      "123\n"
     ]
    }
   ],
   "source": [
    "print(123)\n"
   ]
  },
  {
   "cell_type": "markdown",
   "id": "5357183c-3cdd-4d34-90b6-48a17c206ea8",
   "metadata": {},
   "source": [
    "## Print with Veriable "
   ]
  },
  {
   "cell_type": "code",
   "execution_count": 6,
   "id": "55c78300-7650-4028-9a77-e5cff7a07676",
   "metadata": {},
   "outputs": [
    {
     "name": "stdout",
     "output_type": "stream",
     "text": [
      "my age is : 32\n"
     ]
    }
   ],
   "source": [
    "age=32\n",
    "print(\"my age is :\", age)\n"
   ]
  },
  {
   "cell_type": "markdown",
   "id": "c4411ce7-4026-4f1f-ad34-60f37597ad81",
   "metadata": {},
   "source": [
    "## Print with \"f string\""
   ]
  },
  {
   "cell_type": "code",
   "execution_count": 9,
   "id": "a78d24be-b18b-48fd-be43-df8b7cfa72b7",
   "metadata": {},
   "outputs": [
    {
     "name": "stdout",
     "output_type": "stream",
     "text": [
      "my age is :32\n"
     ]
    }
   ],
   "source": [
    "\n",
    "print(f\"my age is :{age}\")"
   ]
  },
  {
   "cell_type": "markdown",
   "id": "db79b152-8f38-40be-92c6-1086d1a6ee58",
   "metadata": {},
   "source": [
    "## Print with \"format()\""
   ]
  },
  {
   "cell_type": "code",
   "execution_count": 12,
   "id": "e6b26bf6-b9a1-4b87-9258-4103d83dc6bc",
   "metadata": {},
   "outputs": [
    {
     "name": "stdout",
     "output_type": "stream",
     "text": [
      "my name shubham and my age is 32\n"
     ]
    }
   ],
   "source": [
    "\n",
    "name='shubham'\n",
    "print(\"my name {} and my age is {}\".format(name,age))\n"
   ]
  },
  {
   "cell_type": "markdown",
   "id": "c07072f0-cbec-430a-af34-5ce757d2c47a",
   "metadata": {},
   "source": [
    "## format() with placeholder"
   ]
  },
  {
   "cell_type": "code",
   "execution_count": 14,
   "id": "4e540d00-2ee8-4842-8e0c-6bbe19b4e241",
   "metadata": {},
   "outputs": [
    {
     "name": "stdout",
     "output_type": "stream",
     "text": [
      "my name is shubham and my age is 32\n"
     ]
    }
   ],
   "source": [
    "\n",
    "print(\"my name is {firstname} and my age is {firstage}\".format(firstname=name,firstage=age))"
   ]
  },
  {
   "cell_type": "code",
   "execution_count": 17,
   "id": "04e8bba3-3827-485c-929c-bde18ec99d9c",
   "metadata": {},
   "outputs": [
    {
     "name": "stdout",
     "output_type": "stream",
     "text": [
      "mange,apple\n"
     ]
    }
   ],
   "source": [
    "print(\"mange,apple\")"
   ]
  },
  {
   "cell_type": "markdown",
   "id": "9d415277-ee62-4993-9898-f009729f3598",
   "metadata": {},
   "source": [
    "# Learn If, Elif and Else"
   ]
  },
  {
   "cell_type": "markdown",
   "id": "c102666e-9717-48ab-82ab-4681726febe1",
   "metadata": {},
   "source": [
    "## if statement"
   ]
  },
  {
   "cell_type": "code",
   "execution_count": 1,
   "id": "a55e277f-ed0d-4ebe-a4e1-7599ea2a3a56",
   "metadata": {},
   "outputs": [
    {
     "name": "stdout",
     "output_type": "stream",
     "text": [
      "You are eligible for vote\n"
     ]
    }
   ],
   "source": [
    "\n",
    "age =18\n",
    "if age >=18:\n",
    "    print(\"You are eligible for vote\")"
   ]
  },
  {
   "cell_type": "code",
   "execution_count": 8,
   "id": "acc4151a-2622-4e32-8874-7b30760b6d04",
   "metadata": {},
   "outputs": [
    {
     "name": "stdin",
     "output_type": "stream",
     "text": [
      "Enter the age 32\n"
     ]
    }
   ],
   "source": [
    "\n",
    "a=int(input(\"Enter the age\"))"
   ]
  },
  {
   "cell_type": "code",
   "execution_count": 9,
   "id": "0c8bd698-f210-4f55-bbec-7b1c0fc004fd",
   "metadata": {},
   "outputs": [
    {
     "data": {
      "text/plain": [
       "int"
      ]
     },
     "execution_count": 9,
     "metadata": {},
     "output_type": "execute_result"
    }
   ],
   "source": [
    "type(a)\n"
   ]
  },
  {
   "cell_type": "markdown",
   "id": "58434306-0dbe-4e4c-b85e-477987aa0a96",
   "metadata": {},
   "source": [
    "## Use of if else"
   ]
  },
  {
   "cell_type": "code",
   "execution_count": 15,
   "id": "382c3f06-dcfb-4484-9a2f-a17c3fd89a28",
   "metadata": {},
   "outputs": [
    {
     "name": "stdin",
     "output_type": "stream",
     "text": [
      "enter the age 17\n"
     ]
    },
    {
     "name": "stdout",
     "output_type": "stream",
     "text": [
      "Theank you we will let you know\n"
     ]
    }
   ],
   "source": [
    "age=int(input(\"enter the age\"))\n",
    "if age>=18 and age<=32:\n",
    "    print(\"you are young blood\")\n",
    "else:\n",
    "    print(\"Theank you we will let you know\")\n"
   ]
  },
  {
   "cell_type": "code",
   "execution_count": 24,
   "id": "28e94839-1e13-46ed-a158-528cb7ce6acd",
   "metadata": {},
   "outputs": [
    {
     "name": "stdin",
     "output_type": "stream",
     "text": [
      "product price 500\n"
     ]
    },
    {
     "name": "stdout",
     "output_type": "stream",
     "text": [
      "price of the product :350.0\n"
     ]
    }
   ],
   "source": [
    "price=int(input(\"product price\"))\n",
    "if price > 1000:\n",
    "    print(f\"price of the product :{price*0.8}\")\n",
    "else:\n",
    "    print(f\"price of the product :{price*0.7}\")\n"
   ]
  },
  {
   "cell_type": "markdown",
   "id": "ecaec50c-483e-4972-8f4a-3c90bb9db144",
   "metadata": {},
   "source": [
    "## Use of if, elif and else"
   ]
  },
  {
   "cell_type": "code",
   "execution_count": 1,
   "id": "d918bfc9-4241-4feb-99f7-23280b7dead3",
   "metadata": {},
   "outputs": [
    {
     "name": "stdin",
     "output_type": "stream",
     "text": [
      "product price 4000\n"
     ]
    },
    {
     "name": "stdout",
     "output_type": "stream",
     "text": [
      "you win trip\n",
      "price of the product :3200.0\n"
     ]
    }
   ],
   "source": [
    "price=int(input(\"product price\"))\n",
    "if price > 3000:\n",
    "    if price==4000:\n",
    "        print(\"you win trip\")\n",
    "    print(f\"price of the product :{price*0.8}\")\n",
    "elif price==2999:\n",
    "    print(\"congratulations you get gift\")\n",
    "elif 2000<=price<=3000:\n",
    "    print(f\"price of the product :{price*0.7}\")\n",
    "elif 100<=price<2000:\n",
    "    print(f\"price of the product :{price*0.7}\")\n",
    "else:\n",
    "    print(f\"price of the product :{price}\")\n",
    "\n"
   ]
  },
  {
   "cell_type": "code",
   "execution_count": 2,
   "id": "f70074ee-0156-4fa9-b2a7-4677558ee4ac",
   "metadata": {},
   "outputs": [
    {
     "name": "stdout",
     "output_type": "stream",
     "text": [
      "you win trip\n"
     ]
    }
   ],
   "source": [
    "## Single statement\n",
    "if price==4000:print(\"you win trip\")"
   ]
  },
  {
   "cell_type": "code",
   "execution_count": null,
   "id": "88798282-a60c-4e84-a366-667ad68ae70c",
   "metadata": {},
   "outputs": [],
   "source": []
  }
 ],
 "metadata": {
  "kernelspec": {
   "display_name": "Python 3 (ipykernel)",
   "language": "python",
   "name": "python3"
  },
  "language_info": {
   "codemirror_mode": {
    "name": "ipython",
    "version": 3
   },
   "file_extension": ".py",
   "mimetype": "text/x-python",
   "name": "python",
   "nbconvert_exporter": "python",
   "pygments_lexer": "ipython3",
   "version": "3.10.8"
  }
 },
 "nbformat": 4,
 "nbformat_minor": 5
}
