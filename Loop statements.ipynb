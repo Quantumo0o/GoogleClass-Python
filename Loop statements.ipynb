{
 "cells": [
  {
   "cell_type": "markdown",
   "id": "a9156717-5cb2-4139-b4eb-28da2392b7ad",
   "metadata": {},
   "source": [
    "# While Loop"
   ]
  },
  {
   "cell_type": "code",
   "execution_count": 4,
   "id": "a57f504e-13d6-4adb-bc9a-7b822ba19ca8",
   "metadata": {},
   "outputs": [
    {
     "name": "stdout",
     "output_type": "stream",
     "text": [
      "50\n",
      "51\n",
      "52\n",
      "53\n",
      "54\n",
      "55\n",
      "56\n",
      "57\n",
      "58\n",
      "59\n",
      "60\n",
      "Happy retirement\n"
     ]
    }
   ],
   "source": [
    "joining_age=50\n",
    "while joining_age<=60:\n",
    "    print(joining_age)\n",
    "    joining_age=joining_age+1\n",
    "else:\n",
    "    print(\"Happy retirement\")\n",
    "    \n",
    "    \n",
    "    "
   ]
  },
  {
   "cell_type": "code",
   "execution_count": 10,
   "id": "75c01e59-dde6-46e8-b6da-e30bf3d3fcc8",
   "metadata": {},
   "outputs": [
    {
     "name": "stdout",
     "output_type": "stream",
     "text": [
      "50000\n",
      "40000\n",
      "30000\n",
      "20000\n",
      "10000\n",
      "Bank Balance is Low\n"
     ]
    }
   ],
   "source": [
    "## Other Example\n",
    "bank_balance=50000\n",
    "while bank_balance>0:\n",
    "    print(bank_balance)\n",
    "    bank_balance=bank_balance-10000\n",
    "else:\n",
    "    print(\"Bank Balance is Low\")\n",
    "\n",
    "    "
   ]
  },
  {
   "cell_type": "markdown",
   "id": "f1db45df-15af-4d0b-b6d3-31b524130a94",
   "metadata": {},
   "source": [
    "# For Loop"
   ]
  },
  {
   "cell_type": "code",
   "execution_count": 6,
   "id": "23492406-6609-4466-979a-c5aa92cff6d5",
   "metadata": {},
   "outputs": [],
   "source": [
    "lst=[\"krish\",1,2,3,4,\"apple\",\"banana\"]"
   ]
  },
  {
   "cell_type": "code",
   "execution_count": 11,
   "id": "475966ad-7bfb-4d0d-b66e-f79208be71f0",
   "metadata": {},
   "outputs": [
    {
     "data": {
      "text/plain": [
       "['krish', 1, 2, 3, 4, 'apple', 'banana']"
      ]
     },
     "execution_count": 11,
     "metadata": {},
     "output_type": "execute_result"
    }
   ],
   "source": [
    "lst"
   ]
  },
  {
   "cell_type": "code",
   "execution_count": 12,
   "id": "13755e61-c9be-4cc5-83c8-7768c07a424e",
   "metadata": {},
   "outputs": [
    {
     "name": "stdout",
     "output_type": "stream",
     "text": [
      "krish\n",
      "1\n",
      "2\n",
      "3\n",
      "4\n",
      "apple\n",
      "banana\n"
     ]
    }
   ],
   "source": [
    "for x in lst:\n",
    "    print(x)"
   ]
  },
  {
   "cell_type": "code",
   "execution_count": 14,
   "id": "ba00137c-0118-4e23-9337-c40a2f6b6bca",
   "metadata": {},
   "outputs": [],
   "source": [
    "fruits=[\"apple\",\"mango\",\"banana\",\"papaya\",\"cherry\"]\n"
   ]
  },
  {
   "cell_type": "code",
   "execution_count": 16,
   "id": "fb4964fb-d40e-4a66-9994-8f9458417783",
   "metadata": {},
   "outputs": [
    {
     "name": "stdout",
     "output_type": "stream",
     "text": [
      "apple\n",
      "mango\n",
      "fruit is yellow\n",
      "banana\n",
      "papaya\n",
      "cherry\n"
     ]
    }
   ],
   "source": [
    "for a in fruits:\n",
    "    print(a)\n",
    "    if a==\"mango\":\n",
    "        print(\"fruit is yellow\")\n",
    "        "
   ]
  },
  {
   "cell_type": "code",
   "execution_count": 18,
   "id": "7664b73a-a594-41ee-983b-864e0b5a92cb",
   "metadata": {},
   "outputs": [
    {
     "name": "stdout",
     "output_type": "stream",
     "text": [
      "m\n",
      "a\n",
      "n\n",
      "g\n",
      "o\n"
     ]
    }
   ],
   "source": [
    "fruit=\"mango\"\n",
    "for a in fruit:\n",
    "    print(a)"
   ]
  },
  {
   "cell_type": "code",
   "execution_count": 19,
   "id": "54c97c7a-4ded-4bfd-9d66-83dc1792443e",
   "metadata": {},
   "outputs": [
    {
     "name": "stdout",
     "output_type": "stream",
     "text": [
      "mango"
     ]
    }
   ],
   "source": [
    "fruit=\"mango\"\n",
    "for a in fruit:\n",
    "    print(a,end=\"\")"
   ]
  },
  {
   "cell_type": "code",
   "execution_count": 21,
   "id": "67f8c6b7-1101-4868-89cb-2fb44256058d",
   "metadata": {},
   "outputs": [
    {
     "name": "stdout",
     "output_type": "stream",
     "text": [
      "1\n",
      "2\n",
      "3\n",
      "4\n",
      "5\n"
     ]
    }
   ],
   "source": [
    "for a in range(1,6):\n",
    "    print(a)"
   ]
  },
  {
   "cell_type": "code",
   "execution_count": 22,
   "id": "321ead3b-a567-4230-89e0-5ee817d7f5b4",
   "metadata": {},
   "outputs": [
    {
     "name": "stdout",
     "output_type": "stream",
     "text": [
      "1\n",
      "3\n",
      "5\n"
     ]
    }
   ],
   "source": [
    "for a in range(1,6,2):\n",
    "    print(a)"
   ]
  },
  {
   "cell_type": "code",
   "execution_count": 25,
   "id": "fa77f210-587b-4ba2-94a6-376e245c0e13",
   "metadata": {},
   "outputs": [
    {
     "name": "stdout",
     "output_type": "stream",
     "text": [
      "*\n",
      "**\n",
      "***\n",
      "****\n",
      "*****\n",
      "******\n",
      "*******\n"
     ]
    }
   ],
   "source": [
    "n=7\n",
    "for i in range(0,n):\n",
    "    for j in range(0,i+1):\n",
    "        print(\"*\",end=\"\")\n",
    "    print(\"\\r\")"
   ]
  },
  {
   "cell_type": "code",
   "execution_count": 37,
   "id": "77db2b6a-57b7-474c-94d7-b31955e94f7c",
   "metadata": {},
   "outputs": [
    {
     "name": "stdout",
     "output_type": "stream",
     "text": [
      " ***************\n",
      "  *************\n",
      "   ***********\n",
      "    *********\n",
      "     *******\n",
      "      *****\n",
      "       ***\n",
      "        *\n",
      "         \n",
      "          \n",
      "           \n",
      "            \n",
      "             \n",
      "              \n",
      "               \n"
     ]
    }
   ],
   "source": [
    "n=15\n",
    "for i in range(0,n):\n",
    "    for j in range(0,i+1):\n",
    "        print(\" \",end=\"\")\n",
    "    for k in range(0,n-i*2):\n",
    "        print(\"*\",end=\"\")\n",
    "    print()"
   ]
  },
  {
   "cell_type": "markdown",
   "id": "203ff660-8c2d-44bc-ae3b-1ce73267beae",
   "metadata": {},
   "source": [
    "# Break and Continue statement "
   ]
  },
  {
   "cell_type": "code",
   "execution_count": 42,
   "id": "d8cf0c8d-6311-49e2-9f55-38c17e79fe70",
   "metadata": {},
   "outputs": [
    {
     "name": "stdout",
     "output_type": "stream",
     "text": [
      "apple\n",
      "mango\n",
      "the fruit is banana\n",
      "banana\n",
      "papaya\n",
      "cherry\n"
     ]
    }
   ],
   "source": [
    "## Use to break the loop\n",
    "## Continue use the continue loop with rest of loop cade\n",
    "for i in fruits:\n",
    "    if i==\"banana\":\n",
    "        print(\"the fruit is banana\")\n",
    "    print(i)"
   ]
  },
  {
   "cell_type": "code",
   "execution_count": 43,
   "id": "0a05eaf8-3d6c-4934-acfc-d90aaaa8078c",
   "metadata": {},
   "outputs": [
    {
     "name": "stdout",
     "output_type": "stream",
     "text": [
      "apple\n",
      "mango\n",
      "the fruit is banana\n"
     ]
    }
   ],
   "source": [
    "for i in fruits:\n",
    "    if i==\"banana\":\n",
    "        print(\"the fruit is banana\")\n",
    "        break\n",
    "    print(i)"
   ]
  },
  {
   "cell_type": "code",
   "execution_count": 44,
   "id": "3d19f78a-4840-41f1-ab61-b16cca2bfa30",
   "metadata": {},
   "outputs": [
    {
     "name": "stdout",
     "output_type": "stream",
     "text": [
      "apple\n",
      "mango\n",
      "the fruit is banana\n",
      "papaya\n",
      "cherry\n"
     ]
    }
   ],
   "source": [
    "for i in fruits:\n",
    "    if i==\"banana\":\n",
    "        print(\"the fruit is banana\")\n",
    "        continue\n",
    "    print(i)"
   ]
  },
  {
   "cell_type": "raw",
   "id": "2021da7f-cfd9-48ba-8a6f-deb29a02b15e",
   "metadata": {},
   "source": []
  },
  {
   "cell_type": "code",
   "execution_count": null,
   "id": "d838e4b7-8a22-40bd-a956-a198c9d0ba27",
   "metadata": {},
   "outputs": [],
   "source": []
  }
 ],
 "metadata": {
  "kernelspec": {
   "display_name": "Python 3 (ipykernel)",
   "language": "python",
   "name": "python3"
  },
  "language_info": {
   "codemirror_mode": {
    "name": "ipython",
    "version": 3
   },
   "file_extension": ".py",
   "mimetype": "text/x-python",
   "name": "python",
   "nbconvert_exporter": "python",
   "pygments_lexer": "ipython3",
   "version": "3.10.8"
  }
 },
 "nbformat": 4,
 "nbformat_minor": 5
}
