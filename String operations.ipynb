{
 "cells": [
  {
   "cell_type": "markdown",
   "id": "97e7eed7-36ef-487b-8b92-c8c9b3a1b451",
   "metadata": {},
   "source": [
    "# String in python\n",
    "In Python, a string is a sequence of characters represented by either single quotes ('...') or double quotes (\"...\"). Strings are immutable, which means their value cannot be changed once they are assigned. Here are a few basic operations you can perform with strings in Python:\n",
    "- Concatenation: join two or more strings together using the \"+\" operator\n",
    "- Repetition: repeat a string multiple times using the \"*\" operator\n",
    "- Indexing: access individual characters of a string using square brackets [ ] and an index\n",
    "- Slicing: extract a portion of a string using square brackets [start:end]\n",
    "- Length: find the length of a string using the built-in \"len()\" function\n",
    "- Formatting: insert values into a string using placeholders like \"{}\".\n",
    "\n",
    "Here is an example of working with strings in Python:"
   ]
  },
  {
   "cell_type": "code",
   "execution_count": 2,
   "id": "c5e8f085-3a38-40bb-85b9-69b075b1c977",
   "metadata": {},
   "outputs": [
    {
     "name": "stdout",
     "output_type": "stream",
     "text": [
      "Hello, John Doe!\n"
     ]
    }
   ],
   "source": [
    "name = \"John Doe\"\n",
    "greeting = \"Hello, \" + name + \"!\"\n",
    "print(greeting)"
   ]
  },
  {
   "cell_type": "code",
   "execution_count": 3,
   "id": "9386cbbc-953b-4623-a824-b9fec63c9ec2",
   "metadata": {},
   "outputs": [
    {
     "name": "stdout",
     "output_type": "stream",
     "text": [
      "John DoeJohn DoeJohn Doe\n"
     ]
    }
   ],
   "source": [
    "repeat = name * 3\n",
    "print(repeat)"
   ]
  },
  {
   "cell_type": "code",
   "execution_count": 4,
   "id": "f31f949c-8945-4369-8f60-d6fed1dc64c4",
   "metadata": {},
   "outputs": [
    {
     "name": "stdout",
     "output_type": "stream",
     "text": [
      "J\n"
     ]
    }
   ],
   "source": [
    "first_char = name[0]\n",
    "print(first_char)"
   ]
  },
  {
   "cell_type": "code",
   "execution_count": 5,
   "id": "f5cbb4e1-c6d7-4775-9739-c7631ff74a71",
   "metadata": {},
   "outputs": [
    {
     "name": "stdout",
     "output_type": "stream",
     "text": [
      "ohn\n"
     ]
    }
   ],
   "source": [
    "slice = name[1:4]\n",
    "print(slice)"
   ]
  },
  {
   "cell_type": "code",
   "execution_count": 6,
   "id": "b9762ecc-df48-4fc4-a508-f5cc050166e2",
   "metadata": {},
   "outputs": [
    {
     "name": "stdout",
     "output_type": "stream",
     "text": [
      "8\n"
     ]
    }
   ],
   "source": [
    "len_name = len(name)\n",
    "print(len_name)"
   ]
  },
  {
   "cell_type": "code",
   "execution_count": 7,
   "id": "6b59ff8f-8bca-4eac-9061-58e1cd89eafe",
   "metadata": {},
   "outputs": [
    {
     "name": "stdout",
     "output_type": "stream",
     "text": [
      "My name is John Doe and I am 30 years old.\n"
     ]
    }
   ],
   "source": [
    "formatted = \"My name is {} and I am {} years old.\".format(name, 30)\n",
    "print(formatted)"
   ]
  },
  {
   "cell_type": "markdown",
   "id": "258ef35e-92a0-487a-90ae-78511ebaa067",
   "metadata": {},
   "source": [
    "# Reverse String\n",
    "In Python, you can reverse a string by using slicing with a step of -1. Here's an example:"
   ]
  },
  {
   "cell_type": "code",
   "execution_count": 8,
   "id": "53d69b5f-f0c1-4531-886c-becf3efc8fb1",
   "metadata": {},
   "outputs": [
    {
     "name": "stdout",
     "output_type": "stream",
     "text": [
      "!dlroW ,olleH\n"
     ]
    }
   ],
   "source": [
    "original_string = \"Hello, World!\"\n",
    "reversed_string = original_string[::-1]\n",
    "print(reversed_string)"
   ]
  },
  {
   "cell_type": "markdown",
   "id": "51c18007-f81d-43e2-ae19-72e93d6b31af",
   "metadata": {},
   "source": [
    "You can also use the reversed() function along with the join() method to reverse a string:"
   ]
  },
  {
   "cell_type": "code",
   "execution_count": 9,
   "id": "ac5a35c5-a611-4b8d-b464-8c71fb686978",
   "metadata": {},
   "outputs": [
    {
     "name": "stdout",
     "output_type": "stream",
     "text": [
      "!dlroW ,olleH\n"
     ]
    }
   ],
   "source": [
    "original_string = \"Hello, World!\"\n",
    "reversed_string = \"\".join(reversed(original_string))\n",
    "print(reversed_string)"
   ]
  },
  {
   "cell_type": "markdown",
   "id": "a59696f1-e5df-4ba1-9bf8-887a1f91294f",
   "metadata": {},
   "source": [
    "# String find function\n",
    "The find() method in Python is used to search for a substring within a larger string and returns the index of the first occurrence of the substring. If the substring is not found, it returns -1. Here's an example:"
   ]
  },
  {
   "cell_type": "code",
   "execution_count": 10,
   "id": "0677cca1-7e62-471c-93c2-edbb24498b8c",
   "metadata": {},
   "outputs": [
    {
     "name": "stdout",
     "output_type": "stream",
     "text": [
      "7\n"
     ]
    }
   ],
   "source": [
    "original_string = \"Hello, World!\"\n",
    "index = original_string.find(\"World\")\n",
    "print(index)"
   ]
  },
  {
   "cell_type": "markdown",
   "id": "e0e6d879-1cf9-4af2-a03f-4a39b39d645a",
   "metadata": {},
   "source": [
    "You can also use the reversed() function along with the join() method to reverse a string:"
   ]
  },
  {
   "cell_type": "code",
   "execution_count": 11,
   "id": "173b5c5b-374b-46f3-a14d-4e84d2b1c4b8",
   "metadata": {},
   "outputs": [
    {
     "name": "stdout",
     "output_type": "stream",
     "text": [
      "-1\n"
     ]
    }
   ],
   "source": [
    "original_string = \"Hello, World! Hello, World!\"\n",
    "index = original_string.find(\"World\", 8, 16)\n",
    "print(index)"
   ]
  },
  {
   "cell_type": "markdown",
   "id": "bd9c5904-ecfa-4538-afb2-07b48919566c",
   "metadata": {},
   "source": [
    "# string count function\n",
    "The count() method in Python is used to count the number of occurrences of a substring within a larger string. Here's an example:"
   ]
  },
  {
   "cell_type": "code",
   "execution_count": 12,
   "id": "6a86cba0-269d-4622-a5d3-0ae7207d4f3e",
   "metadata": {},
   "outputs": [
    {
     "name": "stdout",
     "output_type": "stream",
     "text": [
      "2\n"
     ]
    }
   ],
   "source": [
    "original_string = \"Hello, World! Hello, World!\"\n",
    "count = original_string.count(\"Hello\")\n",
    "print(count)"
   ]
  },
  {
   "cell_type": "markdown",
   "id": "992cce80-1177-4775-9b6f-d730f19fe606",
   "metadata": {},
   "source": [
    "You can also specify the start and end indexes to limit the search area:\n",
    "\n"
   ]
  },
  {
   "cell_type": "code",
   "execution_count": 13,
   "id": "ff20a3d4-62b0-4d6f-a86b-4e796588281d",
   "metadata": {},
   "outputs": [
    {
     "name": "stdout",
     "output_type": "stream",
     "text": [
      "1\n"
     ]
    }
   ],
   "source": [
    "original_string = \"Hello, World! Hello, World!\"\n",
    "count = original_string.count(\"Hello\", 0, 15)\n",
    "print(count)"
   ]
  },
  {
   "cell_type": "markdown",
   "id": "d06a7051-683a-4bc3-b94b-8e3ccc7f80b5",
   "metadata": {},
   "source": [
    "# string split function\n",
    "The split() method in Python is used to split a string into a list of substrings based on a specified delimiter. By default, the delimiter is any whitespace character (space, tab, newline, etc.). Here's an example:"
   ]
  },
  {
   "cell_type": "code",
   "execution_count": 14,
   "id": "c44475e3-24dd-4390-b86b-8414513eb42d",
   "metadata": {},
   "outputs": [
    {
     "name": "stdout",
     "output_type": "stream",
     "text": [
      "['Hello,', 'World!']\n"
     ]
    }
   ],
   "source": [
    "original_string = \"Hello, World!\"\n",
    "substrings = original_string.split()\n",
    "print(substrings)"
   ]
  },
  {
   "cell_type": "markdown",
   "id": "4421a7ae-7c64-4d2d-8cc9-1b4e62f19488",
   "metadata": {},
   "source": [
    "You can also specify a different delimiter:\n"
   ]
  },
  {
   "cell_type": "markdown",
   "id": "4f286489-92c0-4c26-b480-b9733deed2b7",
   "metadata": {},
   "source": [
    "original_string = \"Hello, World!\"\n",
    "substrings = original_string.split(\",\")\n",
    "print(substrings)"
   ]
  },
  {
   "cell_type": "markdown",
   "id": "2d62faee-9a0d-492a-98fe-adcde37f46e5",
   "metadata": {},
   "source": [
    "# string partition function\n",
    "The partition() method in Python is used to split a string into a tuple containing three elements: the part before the specified delimiter, the delimiter itself, and the part after the delimiter. If the delimiter is not found, the method returns a tuple containing the original string and two empty strings. Here's an example:"
   ]
  },
  {
   "cell_type": "code",
   "execution_count": 16,
   "id": "c9d2d3b2-48dc-40ae-b5a0-7cff973674b4",
   "metadata": {},
   "outputs": [
    {
     "name": "stdout",
     "output_type": "stream",
     "text": [
      "('Hello', ',', ' World!')\n"
     ]
    }
   ],
   "source": [
    "original_string = \"Hello, World!\"\n",
    "result = original_string.partition(\",\")\n",
    "print(result)"
   ]
  },
  {
   "cell_type": "markdown",
   "id": "8f31073e-bc34-4aee-950a-fa76954cccae",
   "metadata": {},
   "source": [
    "In the example above, result[0] is \"Hello\", result[1] is \",\", and result[2] is \" World!\".\n",
    "\n"
   ]
  },
  {
   "cell_type": "markdown",
   "id": "4f5414a6-aee1-46a6-b1ce-ca83111e804d",
   "metadata": {},
   "source": [
    "# string upper, lower, swapcase and title functions in python \n",
    "In Python, the following string methods can be used to convert the case of a string:\n",
    "- upper(): returns a new string with all the characters in uppercase\n",
    "- lower(): returns a new string with all the characters in lowercase\n",
    "- swapcase(): returns a new string with all uppercase characters - -  - converted to lowercase and vice versa\n",
    "- title(): returns a new string with the first letter of each word capitalized\n",
    "\n",
    "Here's an example of using these methods:"
   ]
  },
  {
   "cell_type": "code",
   "execution_count": 17,
   "id": "f9419323-b303-4b23-81a7-debc1f93f52c",
   "metadata": {},
   "outputs": [
    {
     "name": "stdout",
     "output_type": "stream",
     "text": [
      "HELLO, WORLD!\n",
      "hello, world!\n",
      "hELLO, wORLD!\n",
      "Hello, World!\n"
     ]
    }
   ],
   "source": [
    "original_string = \"Hello, World!\"\n",
    "upper_string = original_string.upper()\n",
    "lower_string = original_string.lower()\n",
    "swap_string = original_string.swapcase()\n",
    "title_string = original_string.title()\n",
    "print(upper_string)\n",
    "print(lower_string)\n",
    "print(swap_string)\n",
    "print(title_string)\n"
   ]
  },
  {
   "cell_type": "markdown",
   "id": "d85004de-aea6-443b-aad5-1a05f6237cd1",
   "metadata": {},
   "source": [
    "# difference between split and partition\n",
    "The split() and partition() methods in Python are both used to split a string into parts, but they do so in different ways.\n",
    "\n",
    "split() splits a string into a list of substrings based on a specified delimiter. By default, the delimiter is any whitespace character (space, tab, newline, etc.). The method returns a list of substrings, with the delimiter removed. Here's an example:\n",
    "\n"
   ]
  },
  {
   "cell_type": "code",
   "execution_count": 18,
   "id": "0faba80e-7d0a-414e-aecf-760f0d4a0b76",
   "metadata": {},
   "outputs": [
    {
     "name": "stdout",
     "output_type": "stream",
     "text": [
      "['Hello', ' World!']\n"
     ]
    }
   ],
   "source": [
    "original_string = \"Hello, World!\"\n",
    "substrings = original_string.split(\",\")\n",
    "print(substrings)"
   ]
  },
  {
   "cell_type": "markdown",
   "id": "819f54a4-c42f-4d8c-a22b-a5724099130a",
   "metadata": {},
   "source": [
    "partition(), on the other hand, splits a string into a tuple containing three elements: the part before the specified delimiter, the delimiter itself, and the part after the delimiter. If the delimiter is not found, the method returns a tuple containing the original string and two empty strings. Here's an example:"
   ]
  },
  {
   "cell_type": "code",
   "execution_count": 19,
   "id": "7edcee30-12c5-44fa-83f0-5c3faaeb6483",
   "metadata": {},
   "outputs": [
    {
     "name": "stdout",
     "output_type": "stream",
     "text": [
      "('Hello', ',', ' World!')\n"
     ]
    }
   ],
   "source": [
    "original_string = \"Hello, World!\"\n",
    "result = original_string.partition(\",\")\n",
    "print(result)"
   ]
  },
  {
   "cell_type": "markdown",
   "id": "4570b61b-ccd0-4cdc-8596-ad6a083ab95c",
   "metadata": {},
   "source": [
    "# difference between count and len\n",
    "The count() and len() methods in Python are both used to get information about a string, but they return different values.\n",
    "\n",
    "count() returns the number of occurrences of a specified substring within the string. Here's an example:"
   ]
  },
  {
   "cell_type": "code",
   "execution_count": 20,
   "id": "4d64fa17-6f7f-4264-9f4c-6d6b3c312f48",
   "metadata": {},
   "outputs": [
    {
     "name": "stdout",
     "output_type": "stream",
     "text": [
      "2\n"
     ]
    }
   ],
   "source": [
    "original_string = \"Hello, World! Hello, World!\"\n",
    "count = original_string.count(\"Hello\")\n",
    "print(count)"
   ]
  },
  {
   "cell_type": "markdown",
   "id": "2094fd8b-30a4-424d-b2bd-830795a9835b",
   "metadata": {},
   "source": [
    "len() returns the number of characters in the string, including spaces, punctuation, and special characters. Here's an example:"
   ]
  },
  {
   "cell_type": "code",
   "execution_count": 21,
   "id": "b3d945df-cf13-4405-9bcb-f382385a7e68",
   "metadata": {},
   "outputs": [
    {
     "name": "stdout",
     "output_type": "stream",
     "text": [
      "13\n"
     ]
    }
   ],
   "source": [
    "original_string = \"Hello, World!\"\n",
    "length = len(original_string)\n",
    "print(length)"
   ]
  },
  {
   "cell_type": "markdown",
   "id": "7cac568c-b798-49ff-81d9-46dfedba7f26",
   "metadata": {},
   "source": [
    "So, in summary, count() returns the number of times a substring appears in a string, while len() returns the number of characters in a string."
   ]
  },
  {
   "cell_type": "markdown",
   "id": "f4d43e80-5b65-4e46-8926-56a599537c09",
   "metadata": {},
   "source": [
    "More:-\n",
    "https://www.googleclass.in/2023/02/overview-of-python-data-types.html"
   ]
  },
  {
   "cell_type": "code",
   "execution_count": null,
   "id": "133b3bd1-660b-4e7b-b277-031bc6e7dff1",
   "metadata": {},
   "outputs": [],
   "source": []
  }
 ],
 "metadata": {
  "kernelspec": {
   "display_name": "Python 3 (ipykernel)",
   "language": "python",
   "name": "python3"
  },
  "language_info": {
   "codemirror_mode": {
    "name": "ipython",
    "version": 3
   },
   "file_extension": ".py",
   "mimetype": "text/x-python",
   "name": "python",
   "nbconvert_exporter": "python",
   "pygments_lexer": "ipython3",
   "version": "3.10.8"
  }
 },
 "nbformat": 4,
 "nbformat_minor": 5
}
