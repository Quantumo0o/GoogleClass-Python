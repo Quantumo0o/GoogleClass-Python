{
 "cells": [
  {
   "cell_type": "code",
   "execution_count": 35,
   "id": "9f798e46-b7b3-462f-9a3b-91046fc63d59",
   "metadata": {},
   "outputs": [
    {
     "name": "stdout",
     "output_type": "stream",
     "text": [
      "***************************************\n",
      " *************************************\n",
      "  ***********************************\n",
      "   *********************************\n",
      "    *******************************\n",
      "     *****************************\n",
      "      ***************************\n",
      "       *************************\n",
      "        ***********************\n",
      "         *********************\n",
      "          *******************\n",
      "           *****************\n",
      "            ***************\n",
      "             *************\n",
      "              ***********\n",
      "               *********\n",
      "                *******\n",
      "                 *****\n",
      "                  ***\n",
      "                   *\n"
     ]
    }
   ],
   "source": [
    "n=39\n",
    "p=n\n",
    "for i in range(0,(n//2)+1):\n",
    "    print(\" \"*i,end=\"\")\n",
    "    print(\"*\"*p)\n",
    "    p=p-2"
   ]
  },
  {
   "cell_type": "code",
   "execution_count": 47,
   "id": "73030064-ee1d-4af6-81ec-fa6750ef20b2",
   "metadata": {},
   "outputs": [
    {
     "name": "stdout",
     "output_type": "stream",
     "text": [
      "                              *\n",
      "                             ***\n",
      "                            *****\n",
      "                           *******\n",
      "                          *********\n",
      "                         ***********\n",
      "                        *************\n",
      "                       ***************\n",
      "                      *****************\n",
      "                     *******************\n",
      "                    *********************\n",
      "                   ***********************\n",
      "                  *************************\n",
      "                 ***************************\n",
      "                *****************************\n",
      "               *******************************\n"
     ]
    }
   ],
   "source": [
    "n=30\n",
    "p=1\n",
    "for i in range(0,(n//2+1)):\n",
    "    print(\" \"*(n-i),end=\"\")\n",
    "    print(\"*\"*p)\n",
    "    p=p+2"
   ]
  },
  {
   "cell_type": "code",
   "execution_count": 19,
   "id": "29dc2599-e8c4-4230-b8ff-dfca399b6c5f",
   "metadata": {},
   "outputs": [
    {
     "data": {
      "text/plain": [
       "7.5"
      ]
     },
     "execution_count": 19,
     "metadata": {},
     "output_type": "execute_result"
    }
   ],
   "source": [
    "15/2"
   ]
  },
  {
   "cell_type": "code",
   "execution_count": null,
   "id": "81db632f-34ff-46bf-9c89-755c9a5385e3",
   "metadata": {},
   "outputs": [],
   "source": []
  }
 ],
 "metadata": {
  "kernelspec": {
   "display_name": "Python 3 (ipykernel)",
   "language": "python",
   "name": "python3"
  },
  "language_info": {
   "codemirror_mode": {
    "name": "ipython",
    "version": 3
   },
   "file_extension": ".py",
   "mimetype": "text/x-python",
   "name": "python",
   "nbconvert_exporter": "python",
   "pygments_lexer": "ipython3",
   "version": "3.10.8"
  }
 },
 "nbformat": 4,
 "nbformat_minor": 5
}
